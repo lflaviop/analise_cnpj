{
  "nbformat": 4,
  "nbformat_minor": 0,
  "metadata": {
    "colab": {
      "name": "analise_empresas_parte_1.ipynb",
      "provenance": []
    },
    "kernelspec": {
      "name": "python3",
      "display_name": "Python 3"
    },
    "language_info": {
      "name": "python"
    }
  },
  "cells": [
    {
      "cell_type": "markdown",
      "source": [
        "# **_Análise de empresas com base nos Dados Abertos do Governo Federal_**\n",
        "# _Parte 1_"
      ],
      "metadata": {
        "id": "UrQIEnCJuwa8"
      }
    },
    {
      "cell_type": "markdown",
      "source": [
        "## **Apresentação**\n",
        "\n",
        "\n",
        "Para um profissional ou empresa que oferta produtos e/ou serviços, ter o conhecimento do local onde se situam seus clientes pode ser um diferencial muito grande a ser explorado em seu favor. Serviços de _leading_ e carteiras de clientes são ofertados por diversas empresas do ramo, mas quase sempre são serviços caros, o que os tornam proibitivos para os pequenos empreendedores. O **Governo Federal** disponibiliza para _download_ os dados de todas as empresas com CNPJ aberto no Brasil na forma de dados públicos, os mesmos muitas vezes utilizadas pelas empresas de _leading_. Assim, aproveitando-se deste fato, os dados foram obtidos e tratados para possibilitar diversos tipos de análises, seja para a obtenção de _insights_ ou até mesmo futura prospecção de clientes. A intenção é gerar um arquivo *.csv final contendo os dados mais relevantes das empresas que possam permitir uma análise pelo usuário por tabelas ou _dashboards_ em qualquer software que permita a manipulação de tal arquivo.\n",
        "\n",
        "Os dados abertos sobre as empresas podem ser acessados pelo link:\n",
        "\n",
        "<br>\n",
        "\n",
        "[Cadastro Nacional da Pessoa Jurídica - CNPJ ](https://dados.gov.br/dataset/cadastro-nacional-da-pessoa-juridica-cnpj)\n",
        "\n",
        "<br>\n",
        "\n",
        "Os dados utilizados para este projeto são os da versão de 09/07/2022."
      ],
      "metadata": {
        "id": "UWV5XcEEwO5n"
      }
    },
    {
      "cell_type": "markdown",
      "source": [
        "## **Introdução**\n",
        "Esta primeira parte do trabalho tem por finalidade gerar um arquivo *.csv que contenha apenas os dados mais relevantes da cidade de interesse do usuário baseado nos arquivos dos ESTABELECIMENTOS fornecidos pelo Governo Federal. Após a seleção, filtragem e tratamento dos dados, será gerado um arquivo que será o arquivo utilizado na parte 2 deste projeto."
      ],
      "metadata": {
        "id": "po4gdwS6vem1"
      }
    },
    {
      "cell_type": "code",
      "source": [
        "# TODO\n",
        "# Alterar o código para permitir a seleção de mais de uma cidade;"
      ],
      "metadata": {
        "id": "DgRX66_QAitv"
      },
      "execution_count": 1,
      "outputs": []
    },
    {
      "cell_type": "markdown",
      "source": [
        "## **Motivação**\n",
        "\n",
        "Além de uma ótima oportunidade para o estudo de diversas técnicas de Análise de Dados utilizando-se de dados reais, este projeto foi motivado pelo fato de se poder gerar meios para que qualquer pessoa ou empresa interessada possa obter informações sobre as empresas de interesse no seu local de interesse. Isso poderá lhe fornecer meios de melhorar seu negócio, otimizar a prospecção de novos clientes, possibiltar uma análise sobre as empresas em geral etc. "
      ],
      "metadata": {
        "id": "vtVXugFnyI0L"
      }
    },
    {
      "cell_type": "markdown",
      "source": [
        ""
      ],
      "metadata": {
        "id": "0dsvKGfGrKCq"
      }
    },
    {
      "cell_type": "markdown",
      "source": [
        "## **Execução da primeira parte do projeto**\n",
        "\n",
        "Os arquivos disponibilizados pelo Governo Federal estão separados por categorias e divididos em diversos arquivos devido ao seu tamanho. Após a descompactação eles se tornam muito grandes e por isso os mesmos foram armazenados no Google Drive após o _download_. Cada categoria possui as informações relativas ao seu tema e dessa forma diversas técnicas de juntar as tabelas tem de ser realizados para possibilitar uma visão global das empresas.\n",
        "As principais etapas da 1ª parte são descritas abaixo:\n",
        "\n",
        "* obtenção dos dados relativos ao ESTABELECIMENTO;\n",
        "* remoção das features desnecessárias ao escopo deste projeto;\n",
        "* filtragem pelo(s) município(s) de interesse;\n",
        "* tratamento dos dados;\n",
        "* geração de arquivo de dados com as informações de interesse para o estabelecimento.\n"
      ],
      "metadata": {
        "id": "t3IRi-RwyWJ4"
      }
    },
    {
      "cell_type": "markdown",
      "source": [
        "## **Importante**\n",
        "\n",
        "Por conveniência o projeto foi todo realizado no ambiente de desenvolvimento `Google Colab` (memória disponibilizada e possibilidade de se utilizar os arquivos diretamente do Google Drive). Entretanto, o mesmo pode ser executado em qualquer outro ambiente de desenvolvimento desde que as bibliotecas, recursos e a base de dados necessários à execução estejam disponíveis."
      ],
      "metadata": {
        "id": "ESeKXonx0tsM"
      }
    },
    {
      "cell_type": "code",
      "source": [
        ""
      ],
      "metadata": {
        "id": "I24XiSK40Zvb"
      },
      "execution_count": 1,
      "outputs": []
    },
    {
      "cell_type": "code",
      "execution_count": 2,
      "metadata": {
        "id": "g--2WP0wlz0w"
      },
      "outputs": [],
      "source": [
        "# Importacao das bibliotecas necessarias a execucao das rotinas\n",
        "\n",
        "from zipfile import ZipFile\n",
        "import pandas as pd"
      ]
    },
    {
      "cell_type": "code",
      "source": [
        "# Lista para iteracao e descompactacao dos arquivos no ambiente do Google Colab\n",
        "# Importante: o caminho das pastas devera ser alterado conforme o drive do usuario\n",
        "\n",
        "zip_files = ['Estabelecimentos0.zip', 'Estabelecimentos1.zip', 'Estabelecimentos2.zip', 'Estabelecimentos3.zip', 'Estabelecimentos4.zip', \n",
        "             'Estabelecimentos5.zip', 'Estabelecimentos6.zip', 'Estabelecimentos7.zip', 'Estabelecimentos8.zip', 'Estabelecimentos9.zip']\n",
        "\n",
        "drive_path = '/content/drive/MyDrive/cnpj_dados/'"
      ],
      "metadata": {
        "id": "lUZ4lPai207N"
      },
      "execution_count": 3,
      "outputs": []
    },
    {
      "cell_type": "code",
      "source": [
        "# Descompactacao dos arquivos\n",
        "\n",
        "for file_ in zip_files:\n",
        "    path = drive_path + file_\n",
        "    \n",
        "    with ZipFile(path, mode=\"r\") as archive:\n",
        "        archive.extractall()\n",
        "    \n",
        "    print(f'O arquivo {file_} foi descompactado.')"
      ],
      "metadata": {
        "id": "FHO2aMnO38DP"
      },
      "execution_count": null,
      "outputs": []
    },
    {
      "cell_type": "code",
      "source": [
        "# Lista dos nomes dos arquivos descompactados para iteracao e busca pelo municipio escolhido pelo usuario\n",
        "\n",
        "csv_files = ['K3241.K03200Y0.D20709.ESTABELE', 'K3241.K03200Y1.D20709.ESTABELE', 'K3241.K03200Y2.D20709.ESTABELE', 'K3241.K03200Y3.D20709.ESTABELE', \n",
        "             'K3241.K03200Y4.D20709.ESTABELE', 'K3241.K03200Y5.D20709.ESTABELE', 'K3241.K03200Y6.D20709.ESTABELE', 'K3241.K03200Y7.D20709.ESTABELE', \n",
        "             'K3241.K03200Y8.D20709.ESTABELE', 'K3241.K03200Y9.D20709.ESTABELE']"
      ],
      "metadata": {
        "id": "g_rltkJE42Lm"
      },
      "execution_count": 5,
      "outputs": []
    },
    {
      "cell_type": "code",
      "source": [
        ""
      ],
      "metadata": {
        "id": "XmBf_dOq2iWJ"
      },
      "execution_count": 5,
      "outputs": []
    },
    {
      "cell_type": "markdown",
      "source": [
        "A documentação contendo os _layouts_ dos arquivos disponibilizados pode ser encontrada neste [link](https://www.gov.br/receitafederal/pt-br/assuntos/orientacao-tributaria/cadastros/consultas/arquivos/novolayoutdosdadosabertosdocnpj-dez2021.pdf). De qualquer forma, as tabelas abaixo apresentam uma breve descrição das características contidas nos dados referentes apenas aos estabelecimentos e a justificativa para utilização ou não das _features_ neste trabalho.\n",
        "<br><br>\n",
        "\n",
        "| **Campo**                   | **Descrição** |\n",
        "|:----------------------------|:--------------|\n",
        "| CNPJ BÁSICO                 | NÚMERO BASE DE INSCRIÇÃO NO CNPJ (OITO PRIMEIROS DÍGITOS DO CNPJ).|\n",
        "| CNPJ ORDEM                  | NÚMERO DO ESTABELECIMENTO DE INSCRIÇÃO NO CNPJ (DO NONO ATÉ O DÉCIMO SEGUNDO DÍGITO DO CNPJ) |\n",
        "| CNPJ DV                     | DÍGITO VERIFICADOR DO NÚMERO DE INSCRIÇÃO NO CNPJ (DOIS ÚLTIMOS DÍGITOS DO CNPJ)|\n",
        "| IDENTIFICADOR MATRIZ/FILIAL | CÓDIGO DO IDENTIFICADOR MATRIZ/FILIAL: 1 – MATRIZ 2 – FILIAL|\n",
        "| NOME FANTASIA               | CORRESPONDE AO NOME FANTASIA|\n",
        "| SITUAÇÃO CADASTRAL          | CÓDIGO DA SITUAÇÃO CADASTRAL 1. NULA 2. ATIVA 3. SUSPENSA 4. INAPTA 8. BAIXADA|\n",
        "| DATA SITUAÇÃO CADASTRAL     | DATA DO EVENTO DA SITUAÇÃO CADASTRAL|\n",
        "| MOTIVO SITUAÇÃO CADASTRAL   | CÓDIGO DO MOTIVO DA SITUAÇÃO CADASTRAL|\n",
        "| NOME DA CIDADE NO EXTERIOR  | NOME DA CIDADE NO EXTERIOR|\n",
        "| PAIS                        | CÓDIGO DO PAIS|\n",
        "| DATA DE INÍCIO ATIVIDADE    | DATA DE INÍCIO DA ATIVIDADE|\n",
        "| CNAE FISCAL PRINCIPAL       | CÓDIGO DA ATIVIDADE ECONÔMICA PRINCIPAL DO ESTABELECIMENTO|\n",
        "| CNAE FISCAL SECUNDÁRIA      | CÓDIGO DA(S) ATIVIDADE(S) ECONÔMICA(S) SECUNDÁRIA(S) DO ESTABELECIMENTO|\n",
        "| TIPO DE LOGRADOURO          | DESCRIÇÃO DO TIPO DE LOGRADOURO|\n",
        "| LOGRADOURO                  | NOME DO LOGRADOURO ONDE SE LOCALIZA O ESTABELECIMENTO.|\n",
        "| NÚMERO                      | NÚMERO ONDE SE LOCALIZA O ESTABELECIMENTO. QUANDO NÃO HOUVER PREENCHIMENTO DO NÚMERO HAVERÁ ‘S/N’.|\n",
        "| COMPLEMENTO                 | COMPLEMENTO PARA O ENDEREÇO DE LOCALIZAÇÃO DO ESTABELECIMENTO|\n",
        "| BAIRRO                      | BAIRRO ONDE SE LOCALIZA O ESTABELECIMENTO.|\n",
        "| CEP                         | CÓDIGO DE ENDEREÇAMENTO POSTAL REFERENTE AO LOGRADOURO NO QUAL O ESTABELECIMENTO ESTA LOCALIZADO|\n",
        "| UF                          | SIGLA DA UNIDADE DA FEDERAÇÃO EM QUE SE ENCONTRA O ESTABELECIMENTO|\n",
        "| MUNICÍPIO                   | CÓDIGO DO MUNICÍPIO DE JURISDIÇÃO ONDE SE ENCONTRA O ESTABELECIMENTO|\n",
        "| DDD 1                       | CONTÉM O DDD 1|\n",
        "| TELEFONE 1                  | CONTÉM O NÚMERO DO TELEFONE 1|\n",
        "| DDD 2                       | CONTÉM O DDD 2|\n",
        "| TELEFONE 2                  | CONTÉM O NÚMERO DO TELEFONE 2|\n",
        "| DDD DO FAX                  | CONTÉM O DDD DO FAX|\n",
        "| FAX                         | CONTÉM O NÚMERO DO FAX|\n",
        "| CORREIO ELETRÔNICO          | CONTÉM O E-MAIL DO CONTRIBUINTE|\n",
        "| SITUAÇÃO ESPECIAL           | SITUAÇÃO ESPECIAL DA EMPRESA|\n",
        "| DATA DA SITUAÇÃO ESPECIAL   | DATA EM QUE A EMPRESA ENTROU EM SITUAÇÃO ESPECIAL|"
      ],
      "metadata": {
        "id": "oJPlF_yBo_kS"
      }
    },
    {
      "cell_type": "code",
      "source": [
        ""
      ],
      "metadata": {
        "id": "wTJdYMPYqV_w"
      },
      "execution_count": 5,
      "outputs": []
    },
    {
      "cell_type": "markdown",
      "source": [
        "Após análise preliminar dos dados e pautado pela motivação do projeto foram selecionadas as colunas conforme descrito abaixo.\n",
        "<br><br>\n",
        "\n",
        "|**Indíce**|**Campo**                     |**Tipo de variável**|**Utilizada?**|**Justificativa**                                                     |\n",
        "|:--------:|:-----------------------------|:-------------------|:------------:|:--------------------------------------------------------------------|\n",
        "| 0        | CNPJ BÁSICO                  | Objeto             | Sim          | Identicação da empresa                                              |\n",
        "| 1        | CNPJ ORDEM                   | Objeto             | Sim          | Identicação da empresa                                              |\n",
        "| 2        | CNPJ DV                      | Objeto             | Sim          | Identicação da empresa                                              |\n",
        "| 3        | IDENTIFICADOR MATRIZ/FILIAL  | Categórica         | Sim          | Identicação da empresa                                              |\n",
        "| 4        | NOME FANTASIA                | Objeto             | Sim          | Identicação da empresa                                              |\n",
        "| 5        | SITUAÇÃO CADASTRAL           | Categórica         | Sim          | Situação atual da empresa                                           |\n",
        "| 6        | DATA SITUAÇÃO CADASTRAL      | Datetime           | Sim          | Data da opção pela situação atual                                   |\n",
        "| 7        | MOTIVO SITUAÇÃO CADASTRAL    | Objeto             | Sim          | Motivo da situação atual                                            |\n",
        "| 8        | NOME DA CIDADE NO EXTERIOR   | Objeto             | Não          | Considera-se que a empresa esteja no Brasil                            |\n",
        "| 9        | PAIS                         | Categórica         | Não          | Considera-se que a empresa esteja no Brasil                            |\n",
        "| 10       | DATA DE INÍCIO ATIVIDADE     | Datetime           | Sim          | Data de entrada em atividade                                        |\n",
        "| 11       | CNAE FISCAL PRINCIPAL        | Objeto             | Sim          | Identificação do tipo de atividade principal da empresa             |\n",
        "| 12       | CNAE FISCAL SECUNDÁRIA       | Objeto             | Não          | A atividade principal é a mais relevante                            |\n",
        "| 13       | TIPO DE LOGRADOURO           | Objeto             | Não          | O endereço será obtido através do CEP                               |\n",
        "| 14       | LOGRADOURO                   | Objeto             | Não          | Muitos valores inconsistentes. O endereço será obtido através do CEP|\n",
        "| 15       | NÚMERO                       | Objeto             | Sim          | Localização da empresa                                              |\n",
        "| 16       | COMPLEMENTO                  | Objeto             | Sim          | Localização da empresa                                              |\n",
        "| 17       | BAIRRO                       | Objeto             | Não          | Muitos valores inconsistentes. O endereço será obtido através do CEP|\n",
        "| 18       | CEP                          | Objeto             | Sim          | Será utilizado para aquisição do logradouro e bairro das empresas|\n",
        "| 19       | UF                           | Categórica         | Não          | A escolha pelo município torna esta informação redundante           |\n",
        "| 20       | MUNICÍPIO                    | Objeto             | Sim          | Necessário para seleção do município                                |\n",
        "| 21       | DDD 1                        | Objeto             | Não          | Informação com muitos dados faltantes e desatualizada               |\n",
        "| 22       | TELEFONE 1                   | Objeto             | Não          | Informação com muitos dados faltantes e desatualizada               |\n",
        "| 23       | DDD 2                        | Objeto             | Não          | Informação com muitos dados faltantes e desatualizada               |\n",
        "| 24       | TELEFONE 2                   | Objeto             | Não          | Informação com muitos dados faltantes e desatualizada               |\n",
        "| 25       | DDD DO FAX                   | Objeto             | Não          | Informação com muitos dados faltantes e desatualizada               |\n",
        "| 26       | FAX                          | Objeto             | Não          | Informação com muitos dados faltantes e desatualizada               |\n",
        "| 27       | CORREIO ELETRÔNICO           | Objeto             | Não          | Informação com muitos dados faltantes e desatualizada               |\n",
        "| 28       | SITUAÇÃO ESPECIAL            | Objeto             | Não          |Considerada desnecessária nesta análise                             |\n",
        "| 29       | DATA DA SITUAÇÃO ESPECIAL    | Datatime           | Não          |Considerada desnecessária nesta análise                                       |"
      ],
      "metadata": {
        "id": "-idU9U42ivgL"
      }
    },
    {
      "cell_type": "code",
      "source": [
        "# Como as colunas dos arquivos originais nao possuem cabecalho faz-se necessario a sua inputacao manual,\n",
        "# o que sera realizado com a lista abaixo, ja com os nomes das colunas selecionadas\n",
        "\n",
        "nome_colunas = ['cnpj_basico', 'cnpj_ordem', 'cnpj_dv', 'identificador_matriz_filial', 'nome_fantasia', 'situacao_cadastral', 'data_situacao_cadastral',\n",
        "                'motivo_situacao_cadastral', 'data_de_inicio_atividade', 'cnae_fiscal_principal', 'numero', 'complemento', 'cep', 'municipio']"
      ],
      "metadata": {
        "id": "aNa3Z4ZXtPTK"
      },
      "execution_count": 6,
      "outputs": []
    },
    {
      "cell_type": "code",
      "source": [
        "# Escolha do tipo de variaveis das colunas.\n",
        "# Para esta parte do projeto nao e relevante a escolha precisa das variaveis, mas e importante a escolha do tipo\n",
        "# string para os dados de cnpj para nao haver a perda de informacao e categoricas onde se aplicar para alivio de memoria.\n",
        "\n",
        "tipo_colunas = {'cnpj_basico':'object', 'cnpj_ordem':'object', 'cnpj_dv':'object', 'identificador_matriz_filial':'category',\n",
        "                'nome_fantasia':'object', 'situacao_cadastral':'category', 'motivo_situacao_cadastral':'category', 'cnae_fiscal_principal':'object',\n",
        "                'numero':'object', 'complemento':'object', 'cep':'object', 'municipio':'object',\n",
        "                'data_situacao_cadastral':'object', 'data_de_inicio_atividade':'object'}"
      ],
      "metadata": {
        "id": "PmpPyMd9tvbG"
      },
      "execution_count": 7,
      "outputs": []
    },
    {
      "cell_type": "code",
      "source": [
        "# Descompactacao do arquivo de codificacao dos municipios para utilizacao na leitura dos dados dos estabelecimentos\n",
        "\n",
        "file_ = 'Municipios.zip'\n",
        "\n",
        "with ZipFile(drive_path + file_, mode=\"r\") as archive:\n",
        "    archive.extractall()\n",
        "    \n",
        "print(f'O arquivo {file_} foi extraido.')"
      ],
      "metadata": {
        "colab": {
          "base_uri": "https://localhost:8080/"
        },
        "id": "gnGFL7vxDU6h",
        "outputId": "c62a031d-61ac-4213-ce32-29513e2d6c6b"
      },
      "execution_count": 8,
      "outputs": [
        {
          "output_type": "stream",
          "name": "stdout",
          "text": [
            "O arquivo Municipios.zip foi extraido.\n"
          ]
        }
      ]
    },
    {
      "cell_type": "code",
      "source": [
        "# Leitura do arquivo descompactado de municipios \n",
        "\n",
        "df_municipios = pd.read_csv('/content/F.K03200$Z.D20709.MUNICCSV', encoding='ISO-8859-1', header=None, sep=';', names=['codigo', 'municipio'], dtype='object')\n",
        "df_municipios.head()"
      ],
      "metadata": {
        "colab": {
          "base_uri": "https://localhost:8080/",
          "height": 206
        },
        "id": "aMBrzcgMD53m",
        "outputId": "bc3018f2-606f-4b9f-d980-3556328fe47b"
      },
      "execution_count": 9,
      "outputs": [
        {
          "output_type": "execute_result",
          "data": {
            "text/plain": [
              "  codigo                municipio\n",
              "0   0001            GUAJARA-MIRIM\n",
              "1   0002  ALTO ALEGRE DOS PARECIS\n",
              "2   0003              PORTO VELHO\n",
              "3   0004                  BURITIS\n",
              "4   0005                JI-PARANA"
            ],
            "text/html": [
              "\n",
              "  <div id=\"df-de8dfb33-b7b3-43d9-9e19-7e037419f8bf\">\n",
              "    <div class=\"colab-df-container\">\n",
              "      <div>\n",
              "<style scoped>\n",
              "    .dataframe tbody tr th:only-of-type {\n",
              "        vertical-align: middle;\n",
              "    }\n",
              "\n",
              "    .dataframe tbody tr th {\n",
              "        vertical-align: top;\n",
              "    }\n",
              "\n",
              "    .dataframe thead th {\n",
              "        text-align: right;\n",
              "    }\n",
              "</style>\n",
              "<table border=\"1\" class=\"dataframe\">\n",
              "  <thead>\n",
              "    <tr style=\"text-align: right;\">\n",
              "      <th></th>\n",
              "      <th>codigo</th>\n",
              "      <th>municipio</th>\n",
              "    </tr>\n",
              "  </thead>\n",
              "  <tbody>\n",
              "    <tr>\n",
              "      <th>0</th>\n",
              "      <td>0001</td>\n",
              "      <td>GUAJARA-MIRIM</td>\n",
              "    </tr>\n",
              "    <tr>\n",
              "      <th>1</th>\n",
              "      <td>0002</td>\n",
              "      <td>ALTO ALEGRE DOS PARECIS</td>\n",
              "    </tr>\n",
              "    <tr>\n",
              "      <th>2</th>\n",
              "      <td>0003</td>\n",
              "      <td>PORTO VELHO</td>\n",
              "    </tr>\n",
              "    <tr>\n",
              "      <th>3</th>\n",
              "      <td>0004</td>\n",
              "      <td>BURITIS</td>\n",
              "    </tr>\n",
              "    <tr>\n",
              "      <th>4</th>\n",
              "      <td>0005</td>\n",
              "      <td>JI-PARANA</td>\n",
              "    </tr>\n",
              "  </tbody>\n",
              "</table>\n",
              "</div>\n",
              "      <button class=\"colab-df-convert\" onclick=\"convertToInteractive('df-de8dfb33-b7b3-43d9-9e19-7e037419f8bf')\"\n",
              "              title=\"Convert this dataframe to an interactive table.\"\n",
              "              style=\"display:none;\">\n",
              "        \n",
              "  <svg xmlns=\"http://www.w3.org/2000/svg\" height=\"24px\"viewBox=\"0 0 24 24\"\n",
              "       width=\"24px\">\n",
              "    <path d=\"M0 0h24v24H0V0z\" fill=\"none\"/>\n",
              "    <path d=\"M18.56 5.44l.94 2.06.94-2.06 2.06-.94-2.06-.94-.94-2.06-.94 2.06-2.06.94zm-11 1L8.5 8.5l.94-2.06 2.06-.94-2.06-.94L8.5 2.5l-.94 2.06-2.06.94zm10 10l.94 2.06.94-2.06 2.06-.94-2.06-.94-.94-2.06-.94 2.06-2.06.94z\"/><path d=\"M17.41 7.96l-1.37-1.37c-.4-.4-.92-.59-1.43-.59-.52 0-1.04.2-1.43.59L10.3 9.45l-7.72 7.72c-.78.78-.78 2.05 0 2.83L4 21.41c.39.39.9.59 1.41.59.51 0 1.02-.2 1.41-.59l7.78-7.78 2.81-2.81c.8-.78.8-2.07 0-2.86zM5.41 20L4 18.59l7.72-7.72 1.47 1.35L5.41 20z\"/>\n",
              "  </svg>\n",
              "      </button>\n",
              "      \n",
              "  <style>\n",
              "    .colab-df-container {\n",
              "      display:flex;\n",
              "      flex-wrap:wrap;\n",
              "      gap: 12px;\n",
              "    }\n",
              "\n",
              "    .colab-df-convert {\n",
              "      background-color: #E8F0FE;\n",
              "      border: none;\n",
              "      border-radius: 50%;\n",
              "      cursor: pointer;\n",
              "      display: none;\n",
              "      fill: #1967D2;\n",
              "      height: 32px;\n",
              "      padding: 0 0 0 0;\n",
              "      width: 32px;\n",
              "    }\n",
              "\n",
              "    .colab-df-convert:hover {\n",
              "      background-color: #E2EBFA;\n",
              "      box-shadow: 0px 1px 2px rgba(60, 64, 67, 0.3), 0px 1px 3px 1px rgba(60, 64, 67, 0.15);\n",
              "      fill: #174EA6;\n",
              "    }\n",
              "\n",
              "    [theme=dark] .colab-df-convert {\n",
              "      background-color: #3B4455;\n",
              "      fill: #D2E3FC;\n",
              "    }\n",
              "\n",
              "    [theme=dark] .colab-df-convert:hover {\n",
              "      background-color: #434B5C;\n",
              "      box-shadow: 0px 1px 3px 1px rgba(0, 0, 0, 0.15);\n",
              "      filter: drop-shadow(0px 1px 2px rgba(0, 0, 0, 0.3));\n",
              "      fill: #FFFFFF;\n",
              "    }\n",
              "  </style>\n",
              "\n",
              "      <script>\n",
              "        const buttonEl =\n",
              "          document.querySelector('#df-de8dfb33-b7b3-43d9-9e19-7e037419f8bf button.colab-df-convert');\n",
              "        buttonEl.style.display =\n",
              "          google.colab.kernel.accessAllowed ? 'block' : 'none';\n",
              "\n",
              "        async function convertToInteractive(key) {\n",
              "          const element = document.querySelector('#df-de8dfb33-b7b3-43d9-9e19-7e037419f8bf');\n",
              "          const dataTable =\n",
              "            await google.colab.kernel.invokeFunction('convertToInteractive',\n",
              "                                                     [key], {});\n",
              "          if (!dataTable) return;\n",
              "\n",
              "          const docLinkHtml = 'Like what you see? Visit the ' +\n",
              "            '<a target=\"_blank\" href=https://colab.research.google.com/notebooks/data_table.ipynb>data table notebook</a>'\n",
              "            + ' to learn more about interactive tables.';\n",
              "          element.innerHTML = '';\n",
              "          dataTable['output_type'] = 'display_data';\n",
              "          await google.colab.output.renderOutput(dataTable, element);\n",
              "          const docLink = document.createElement('div');\n",
              "          docLink.innerHTML = docLinkHtml;\n",
              "          element.appendChild(docLink);\n",
              "        }\n",
              "      </script>\n",
              "    </div>\n",
              "  </div>\n",
              "  "
            ]
          },
          "metadata": {},
          "execution_count": 9
        }
      ]
    },
    {
      "cell_type": "code",
      "source": [
        "# Codigo do municipio para possibilitar busca. Essa informacao e facilmente obtida na internet\n",
        "# Para este projeto foi escolhido o municipio de Pocos de Caldas, MG como exemplo\n",
        "\n",
        "codigo_municipio = '5035'\n",
        "\n",
        "# TODO\n",
        "# Possibilitar busca pelo nome do municipio"
      ],
      "metadata": {
        "id": "a32O-kVqlRG3"
      },
      "execution_count": 10,
      "outputs": []
    },
    {
      "cell_type": "code",
      "source": [
        "# Retorna o nome do municipio\n",
        "\n",
        "munic = df_municipios[df_municipios['codigo'] == codigo_municipio]['municipio']\n",
        "municipio = [i for i in munic][0]"
      ],
      "metadata": {
        "id": "iTDcxkuxEdzL"
      },
      "execution_count": 22,
      "outputs": []
    },
    {
      "cell_type": "code",
      "source": [
        "# Esta rotina efetua a busca das instancias dos municipio escolhido nos 10 arquivos csv dos estabelecimentos\n",
        "# um por vez, e os armazena em um dataframe, que sera utilizado no restante do codigo\n",
        "\n",
        "for csv in csv_files:\n",
        "    # path_colab = '/content/' + csv\n",
        "\n",
        "    if csv == 'K3241.K03200Y0.D20709.ESTABELE':\n",
        "        df = pd.read_csv(csv, sep=\";\", encoding='ISO-8859-1', header=None, low_memory=False, \n",
        "                         usecols=[0,1,2,3,4,5,6,7,10,11,15,16,18,20], names=nome_colunas, dtype=tipo_colunas)\n",
        "        print (f'O arquivo {csv} possui {len(df)} linhas.')\n",
        "        df = df.query(\"municipio == @ codigo_municipio\")\n",
        "        print (f'O arquivo {csv} possui {len(df)} linhas referentes ao municipio de {municipio.title()}.\\n')\n",
        "    else:\n",
        "        df2 = pd.read_csv(csv, sep=\";\", encoding='ISO-8859-1', header=None, low_memory=False, \n",
        "                          usecols=[0,1,2,3,4,5,6,7,10,11,15,16,18,20], names=nome_colunas, dtype=tipo_colunas)\n",
        "        print (f'O arquivo {csv} possui {len(df2)} linhas.')        \n",
        "        df2 = df2.query(\"municipio == @ codigo_municipio\")\n",
        "        print (f'O arquivo {csv} possui {len(df2)} linhas referentes ao municipio de {municipio.title()}.\\n')\n",
        "        df = pd.concat([df, df2], ignore_index=True)"
      ],
      "metadata": {
        "id": "isuXGrsY-gXt",
        "colab": {
          "base_uri": "https://localhost:8080/"
        },
        "outputId": "eab96298-4cb9-4751-be6c-03cdc6aac84e"
      },
      "execution_count": 12,
      "outputs": [
        {
          "output_type": "stream",
          "name": "stdout",
          "text": [
            "O arquivo K3241.K03200Y0.D20709.ESTABELE possui 10431926 linhas.\n",
            "O arquivo K3241.K03200Y0.D20709.ESTABELE possui 10555 linhas referentes ao municipio de Pocos De Caldas.\n",
            "\n",
            "O arquivo K3241.K03200Y1.D20709.ESTABELE possui 4753435 linhas.\n",
            "O arquivo K3241.K03200Y1.D20709.ESTABELE possui 4783 linhas referentes ao municipio de Pocos De Caldas.\n",
            "\n",
            "O arquivo K3241.K03200Y2.D20709.ESTABELE possui 4753435 linhas.\n",
            "O arquivo K3241.K03200Y2.D20709.ESTABELE possui 4799 linhas referentes ao municipio de Pocos De Caldas.\n",
            "\n",
            "O arquivo K3241.K03200Y3.D20709.ESTABELE possui 4753435 linhas.\n",
            "O arquivo K3241.K03200Y3.D20709.ESTABELE possui 4959 linhas referentes ao municipio de Pocos De Caldas.\n",
            "\n",
            "O arquivo K3241.K03200Y4.D20709.ESTABELE possui 4753435 linhas.\n",
            "O arquivo K3241.K03200Y4.D20709.ESTABELE possui 4954 linhas referentes ao municipio de Pocos De Caldas.\n",
            "\n",
            "O arquivo K3241.K03200Y5.D20709.ESTABELE possui 4753435 linhas.\n",
            "O arquivo K3241.K03200Y5.D20709.ESTABELE possui 4912 linhas referentes ao municipio de Pocos De Caldas.\n",
            "\n",
            "O arquivo K3241.K03200Y6.D20709.ESTABELE possui 4753435 linhas.\n",
            "O arquivo K3241.K03200Y6.D20709.ESTABELE possui 5077 linhas referentes ao municipio de Pocos De Caldas.\n",
            "\n",
            "O arquivo K3241.K03200Y7.D20709.ESTABELE possui 4753435 linhas.\n",
            "O arquivo K3241.K03200Y7.D20709.ESTABELE possui 4943 linhas referentes ao municipio de Pocos De Caldas.\n",
            "\n",
            "O arquivo K3241.K03200Y8.D20709.ESTABELE possui 4753435 linhas.\n",
            "O arquivo K3241.K03200Y8.D20709.ESTABELE possui 5011 linhas referentes ao municipio de Pocos De Caldas.\n",
            "\n",
            "O arquivo K3241.K03200Y9.D20709.ESTABELE possui 4753435 linhas.\n",
            "O arquivo K3241.K03200Y9.D20709.ESTABELE possui 4610 linhas referentes ao municipio de Pocos De Caldas.\n",
            "\n"
          ]
        }
      ]
    },
    {
      "cell_type": "code",
      "source": [
        "print(f'O dataframe relativos as empresas de {municipio} contem {df.shape[0]} linhas e {df.shape[1]} colunas.')"
      ],
      "metadata": {
        "colab": {
          "base_uri": "https://localhost:8080/"
        },
        "id": "G5b7fj2pGh0G",
        "outputId": "986d4e41-21be-437c-d151-5b1f8b57ba75"
      },
      "execution_count": 23,
      "outputs": [
        {
          "output_type": "stream",
          "name": "stdout",
          "text": [
            "O dataframe relativos as empresas de Pocos De Caldas contem 54603 linhas e 13 colunas.\n"
          ]
        }
      ]
    },
    {
      "cell_type": "code",
      "source": [
        "df.head()"
      ],
      "metadata": {
        "colab": {
          "base_uri": "https://localhost:8080/",
          "height": 305
        },
        "id": "B-TwBMnwDDgK",
        "outputId": "3886aa69-d834-4a81-e02a-f47dbd3a16fa"
      },
      "execution_count": 13,
      "outputs": [
        {
          "output_type": "execute_result",
          "data": {
            "text/plain": [
              "  cnpj_basico cnpj_ordem cnpj_dv identificador_matriz_filial  \\\n",
              "0    02951824       0002      53                           2   \n",
              "1    02114490       0002      63                           2   \n",
              "2    03907506       0001      77                           1   \n",
              "3    05571365       0001      90                           1   \n",
              "4    03913359       0001      48                           1   \n",
              "\n",
              "               nome_fantasia situacao_cadastral data_situacao_cadastral  \\\n",
              "0                        NaN                 04                20190124   \n",
              "1  SOLANGE MODA E ACESSORIOS                 08                20101109   \n",
              "2                        NaN                 02                20051103   \n",
              "3                        NaN                 08                20130415   \n",
              "4                  SONHO MEU                 08                20110426   \n",
              "\n",
              "  motivo_situacao_cadastral data_de_inicio_atividade cnae_fiscal_principal  \\\n",
              "0                        63                 20021111               4729699   \n",
              "1                        01                 20011016               4781400   \n",
              "2                        00                 20000626               8650003   \n",
              "3                        01                 20030331               4759899   \n",
              "4                        01                 20000623               4729699   \n",
              "\n",
              "  numero complemento       cep municipio  \n",
              "0   1248           A  37701386      5035  \n",
              "1     15         NaN  37701010      5035  \n",
              "2    221    CONJ  23  37701025      5035  \n",
              "3    404         NaN  37701033      5035  \n",
              "4    255         NaN  37706147      5035  "
            ],
            "text/html": [
              "\n",
              "  <div id=\"df-6bc092b5-a7fc-4bcc-858f-669e7fef95b7\">\n",
              "    <div class=\"colab-df-container\">\n",
              "      <div>\n",
              "<style scoped>\n",
              "    .dataframe tbody tr th:only-of-type {\n",
              "        vertical-align: middle;\n",
              "    }\n",
              "\n",
              "    .dataframe tbody tr th {\n",
              "        vertical-align: top;\n",
              "    }\n",
              "\n",
              "    .dataframe thead th {\n",
              "        text-align: right;\n",
              "    }\n",
              "</style>\n",
              "<table border=\"1\" class=\"dataframe\">\n",
              "  <thead>\n",
              "    <tr style=\"text-align: right;\">\n",
              "      <th></th>\n",
              "      <th>cnpj_basico</th>\n",
              "      <th>cnpj_ordem</th>\n",
              "      <th>cnpj_dv</th>\n",
              "      <th>identificador_matriz_filial</th>\n",
              "      <th>nome_fantasia</th>\n",
              "      <th>situacao_cadastral</th>\n",
              "      <th>data_situacao_cadastral</th>\n",
              "      <th>motivo_situacao_cadastral</th>\n",
              "      <th>data_de_inicio_atividade</th>\n",
              "      <th>cnae_fiscal_principal</th>\n",
              "      <th>numero</th>\n",
              "      <th>complemento</th>\n",
              "      <th>cep</th>\n",
              "      <th>municipio</th>\n",
              "    </tr>\n",
              "  </thead>\n",
              "  <tbody>\n",
              "    <tr>\n",
              "      <th>0</th>\n",
              "      <td>02951824</td>\n",
              "      <td>0002</td>\n",
              "      <td>53</td>\n",
              "      <td>2</td>\n",
              "      <td>NaN</td>\n",
              "      <td>04</td>\n",
              "      <td>20190124</td>\n",
              "      <td>63</td>\n",
              "      <td>20021111</td>\n",
              "      <td>4729699</td>\n",
              "      <td>1248</td>\n",
              "      <td>A</td>\n",
              "      <td>37701386</td>\n",
              "      <td>5035</td>\n",
              "    </tr>\n",
              "    <tr>\n",
              "      <th>1</th>\n",
              "      <td>02114490</td>\n",
              "      <td>0002</td>\n",
              "      <td>63</td>\n",
              "      <td>2</td>\n",
              "      <td>SOLANGE MODA E ACESSORIOS</td>\n",
              "      <td>08</td>\n",
              "      <td>20101109</td>\n",
              "      <td>01</td>\n",
              "      <td>20011016</td>\n",
              "      <td>4781400</td>\n",
              "      <td>15</td>\n",
              "      <td>NaN</td>\n",
              "      <td>37701010</td>\n",
              "      <td>5035</td>\n",
              "    </tr>\n",
              "    <tr>\n",
              "      <th>2</th>\n",
              "      <td>03907506</td>\n",
              "      <td>0001</td>\n",
              "      <td>77</td>\n",
              "      <td>1</td>\n",
              "      <td>NaN</td>\n",
              "      <td>02</td>\n",
              "      <td>20051103</td>\n",
              "      <td>00</td>\n",
              "      <td>20000626</td>\n",
              "      <td>8650003</td>\n",
              "      <td>221</td>\n",
              "      <td>CONJ  23</td>\n",
              "      <td>37701025</td>\n",
              "      <td>5035</td>\n",
              "    </tr>\n",
              "    <tr>\n",
              "      <th>3</th>\n",
              "      <td>05571365</td>\n",
              "      <td>0001</td>\n",
              "      <td>90</td>\n",
              "      <td>1</td>\n",
              "      <td>NaN</td>\n",
              "      <td>08</td>\n",
              "      <td>20130415</td>\n",
              "      <td>01</td>\n",
              "      <td>20030331</td>\n",
              "      <td>4759899</td>\n",
              "      <td>404</td>\n",
              "      <td>NaN</td>\n",
              "      <td>37701033</td>\n",
              "      <td>5035</td>\n",
              "    </tr>\n",
              "    <tr>\n",
              "      <th>4</th>\n",
              "      <td>03913359</td>\n",
              "      <td>0001</td>\n",
              "      <td>48</td>\n",
              "      <td>1</td>\n",
              "      <td>SONHO MEU</td>\n",
              "      <td>08</td>\n",
              "      <td>20110426</td>\n",
              "      <td>01</td>\n",
              "      <td>20000623</td>\n",
              "      <td>4729699</td>\n",
              "      <td>255</td>\n",
              "      <td>NaN</td>\n",
              "      <td>37706147</td>\n",
              "      <td>5035</td>\n",
              "    </tr>\n",
              "  </tbody>\n",
              "</table>\n",
              "</div>\n",
              "      <button class=\"colab-df-convert\" onclick=\"convertToInteractive('df-6bc092b5-a7fc-4bcc-858f-669e7fef95b7')\"\n",
              "              title=\"Convert this dataframe to an interactive table.\"\n",
              "              style=\"display:none;\">\n",
              "        \n",
              "  <svg xmlns=\"http://www.w3.org/2000/svg\" height=\"24px\"viewBox=\"0 0 24 24\"\n",
              "       width=\"24px\">\n",
              "    <path d=\"M0 0h24v24H0V0z\" fill=\"none\"/>\n",
              "    <path d=\"M18.56 5.44l.94 2.06.94-2.06 2.06-.94-2.06-.94-.94-2.06-.94 2.06-2.06.94zm-11 1L8.5 8.5l.94-2.06 2.06-.94-2.06-.94L8.5 2.5l-.94 2.06-2.06.94zm10 10l.94 2.06.94-2.06 2.06-.94-2.06-.94-.94-2.06-.94 2.06-2.06.94z\"/><path d=\"M17.41 7.96l-1.37-1.37c-.4-.4-.92-.59-1.43-.59-.52 0-1.04.2-1.43.59L10.3 9.45l-7.72 7.72c-.78.78-.78 2.05 0 2.83L4 21.41c.39.39.9.59 1.41.59.51 0 1.02-.2 1.41-.59l7.78-7.78 2.81-2.81c.8-.78.8-2.07 0-2.86zM5.41 20L4 18.59l7.72-7.72 1.47 1.35L5.41 20z\"/>\n",
              "  </svg>\n",
              "      </button>\n",
              "      \n",
              "  <style>\n",
              "    .colab-df-container {\n",
              "      display:flex;\n",
              "      flex-wrap:wrap;\n",
              "      gap: 12px;\n",
              "    }\n",
              "\n",
              "    .colab-df-convert {\n",
              "      background-color: #E8F0FE;\n",
              "      border: none;\n",
              "      border-radius: 50%;\n",
              "      cursor: pointer;\n",
              "      display: none;\n",
              "      fill: #1967D2;\n",
              "      height: 32px;\n",
              "      padding: 0 0 0 0;\n",
              "      width: 32px;\n",
              "    }\n",
              "\n",
              "    .colab-df-convert:hover {\n",
              "      background-color: #E2EBFA;\n",
              "      box-shadow: 0px 1px 2px rgba(60, 64, 67, 0.3), 0px 1px 3px 1px rgba(60, 64, 67, 0.15);\n",
              "      fill: #174EA6;\n",
              "    }\n",
              "\n",
              "    [theme=dark] .colab-df-convert {\n",
              "      background-color: #3B4455;\n",
              "      fill: #D2E3FC;\n",
              "    }\n",
              "\n",
              "    [theme=dark] .colab-df-convert:hover {\n",
              "      background-color: #434B5C;\n",
              "      box-shadow: 0px 1px 3px 1px rgba(0, 0, 0, 0.15);\n",
              "      filter: drop-shadow(0px 1px 2px rgba(0, 0, 0, 0.3));\n",
              "      fill: #FFFFFF;\n",
              "    }\n",
              "  </style>\n",
              "\n",
              "      <script>\n",
              "        const buttonEl =\n",
              "          document.querySelector('#df-6bc092b5-a7fc-4bcc-858f-669e7fef95b7 button.colab-df-convert');\n",
              "        buttonEl.style.display =\n",
              "          google.colab.kernel.accessAllowed ? 'block' : 'none';\n",
              "\n",
              "        async function convertToInteractive(key) {\n",
              "          const element = document.querySelector('#df-6bc092b5-a7fc-4bcc-858f-669e7fef95b7');\n",
              "          const dataTable =\n",
              "            await google.colab.kernel.invokeFunction('convertToInteractive',\n",
              "                                                     [key], {});\n",
              "          if (!dataTable) return;\n",
              "\n",
              "          const docLinkHtml = 'Like what you see? Visit the ' +\n",
              "            '<a target=\"_blank\" href=https://colab.research.google.com/notebooks/data_table.ipynb>data table notebook</a>'\n",
              "            + ' to learn more about interactive tables.';\n",
              "          element.innerHTML = '';\n",
              "          dataTable['output_type'] = 'display_data';\n",
              "          await google.colab.output.renderOutput(dataTable, element);\n",
              "          const docLink = document.createElement('div');\n",
              "          docLink.innerHTML = docLinkHtml;\n",
              "          element.appendChild(docLink);\n",
              "        }\n",
              "      </script>\n",
              "    </div>\n",
              "  </div>\n",
              "  "
            ]
          },
          "metadata": {},
          "execution_count": 13
        }
      ]
    },
    {
      "cell_type": "code",
      "source": [
        "df.info()"
      ],
      "metadata": {
        "colab": {
          "base_uri": "https://localhost:8080/"
        },
        "id": "qTnX_HhJ1Yxw",
        "outputId": "705ea5ae-daea-44e7-87b1-846593079519"
      },
      "execution_count": 14,
      "outputs": [
        {
          "output_type": "stream",
          "name": "stdout",
          "text": [
            "<class 'pandas.core.frame.DataFrame'>\n",
            "RangeIndex: 54603 entries, 0 to 54602\n",
            "Data columns (total 14 columns):\n",
            " #   Column                       Non-Null Count  Dtype   \n",
            "---  ------                       --------------  -----   \n",
            " 0   cnpj_basico                  54603 non-null  object  \n",
            " 1   cnpj_ordem                   54603 non-null  object  \n",
            " 2   cnpj_dv                      54603 non-null  object  \n",
            " 3   identificador_matriz_filial  54603 non-null  category\n",
            " 4   nome_fantasia                34431 non-null  object  \n",
            " 5   situacao_cadastral           54603 non-null  category\n",
            " 6   data_situacao_cadastral      54603 non-null  object  \n",
            " 7   motivo_situacao_cadastral    54603 non-null  object  \n",
            " 8   data_de_inicio_atividade     54603 non-null  object  \n",
            " 9   cnae_fiscal_principal        54603 non-null  object  \n",
            " 10  numero                       54603 non-null  object  \n",
            " 11  complemento                  18056 non-null  object  \n",
            " 12  cep                          54603 non-null  object  \n",
            " 13  municipio                    54603 non-null  object  \n",
            "dtypes: category(2), object(12)\n",
            "memory usage: 5.1+ MB\n"
          ]
        }
      ]
    },
    {
      "cell_type": "code",
      "source": [
        "# O pandas nao atribui o tipo categorico a feature motivo_situacao_cadastral.\n",
        "\n",
        "df['motivo_situacao_cadastral'] = df['motivo_situacao_cadastral'].astype('category')\n",
        "df.info()"
      ],
      "metadata": {
        "colab": {
          "base_uri": "https://localhost:8080/"
        },
        "id": "DFb--dn2o4AZ",
        "outputId": "d75640bf-c3fd-4368-9466-c8aa82abaf77"
      },
      "execution_count": 15,
      "outputs": [
        {
          "output_type": "stream",
          "name": "stdout",
          "text": [
            "<class 'pandas.core.frame.DataFrame'>\n",
            "RangeIndex: 54603 entries, 0 to 54602\n",
            "Data columns (total 14 columns):\n",
            " #   Column                       Non-Null Count  Dtype   \n",
            "---  ------                       --------------  -----   \n",
            " 0   cnpj_basico                  54603 non-null  object  \n",
            " 1   cnpj_ordem                   54603 non-null  object  \n",
            " 2   cnpj_dv                      54603 non-null  object  \n",
            " 3   identificador_matriz_filial  54603 non-null  category\n",
            " 4   nome_fantasia                34431 non-null  object  \n",
            " 5   situacao_cadastral           54603 non-null  category\n",
            " 6   data_situacao_cadastral      54603 non-null  object  \n",
            " 7   motivo_situacao_cadastral    54603 non-null  category\n",
            " 8   data_de_inicio_atividade     54603 non-null  object  \n",
            " 9   cnae_fiscal_principal        54603 non-null  object  \n",
            " 10  numero                       54603 non-null  object  \n",
            " 11  complemento                  18056 non-null  object  \n",
            " 12  cep                          54603 non-null  object  \n",
            " 13  municipio                    54603 non-null  object  \n",
            "dtypes: category(3), object(11)\n",
            "memory usage: 4.7+ MB\n"
          ]
        }
      ]
    },
    {
      "cell_type": "code",
      "source": [
        "# Remocao da feature municipio devido ao fato de se possuir dados de apenas um municipio\n",
        "\n",
        "df.drop('municipio', inplace=True, axis=1)\n",
        "df.info()"
      ],
      "metadata": {
        "colab": {
          "base_uri": "https://localhost:8080/"
        },
        "id": "87Rlxh5s1QRQ",
        "outputId": "1a20fc90-4ade-4601-e44f-ee5b4b7f1753"
      },
      "execution_count": 16,
      "outputs": [
        {
          "output_type": "stream",
          "name": "stdout",
          "text": [
            "<class 'pandas.core.frame.DataFrame'>\n",
            "RangeIndex: 54603 entries, 0 to 54602\n",
            "Data columns (total 13 columns):\n",
            " #   Column                       Non-Null Count  Dtype   \n",
            "---  ------                       --------------  -----   \n",
            " 0   cnpj_basico                  54603 non-null  object  \n",
            " 1   cnpj_ordem                   54603 non-null  object  \n",
            " 2   cnpj_dv                      54603 non-null  object  \n",
            " 3   identificador_matriz_filial  54603 non-null  category\n",
            " 4   nome_fantasia                34431 non-null  object  \n",
            " 5   situacao_cadastral           54603 non-null  category\n",
            " 6   data_situacao_cadastral      54603 non-null  object  \n",
            " 7   motivo_situacao_cadastral    54603 non-null  category\n",
            " 8   data_de_inicio_atividade     54603 non-null  object  \n",
            " 9   cnae_fiscal_principal        54603 non-null  object  \n",
            " 10  numero                       54603 non-null  object  \n",
            " 11  complemento                  18056 non-null  object  \n",
            " 12  cep                          54603 non-null  object  \n",
            "dtypes: category(3), object(10)\n",
            "memory usage: 4.3+ MB\n"
          ]
        }
      ]
    },
    {
      "cell_type": "code",
      "source": [
        "# Substituicao dos caracteres \" , ; : das instancias para evitar conflitos na geracao do arquivo csv\n",
        "\n",
        "df = df.replace('[\":;,]',' ', regex=True)"
      ],
      "metadata": {
        "id": "qiMk34suz-i4"
      },
      "execution_count": 17,
      "outputs": []
    },
    {
      "cell_type": "code",
      "source": [
        "# Mascara para o nome do csv\n",
        "\n",
        "municipio = municipio.replace(' ', '_')\n",
        "mascara_nome_arquivo = 'df_municipio_' + municipio.lower() + '.csv'"
      ],
      "metadata": {
        "id": "RhqmyP_Kskum"
      },
      "execution_count": 18,
      "outputs": []
    },
    {
      "cell_type": "code",
      "source": [
        "# Criacao do arquivo csv\n",
        "\n",
        "df.to_csv(mascara_nome_arquivo, index=False, encoding='utf-8', na_rep='')"
      ],
      "metadata": {
        "id": "POlqFbhy2BNX"
      },
      "execution_count": 19,
      "outputs": []
    }
  ]
}