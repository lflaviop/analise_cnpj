{
  "nbformat": 4,
  "nbformat_minor": 0,
  "metadata": {
    "colab": {
      "name": "gera_csv_estabelecimento.ipynb",
      "provenance": []
    },
    "kernelspec": {
      "name": "python3",
      "display_name": "Python 3"
    },
    "language_info": {
      "name": "python"
    }
  },
  "cells": [
    {
      "cell_type": "markdown",
      "source": [
        "<https://dados.gov.br/dataset/cadastro-nacional-da-pessoa-juridica-cnpj>"
      ],
      "metadata": {
        "id": "0dsvKGfGrKCq"
      }
    },
    {
      "cell_type": "markdown",
      "source": [
        "isso e um teste\n",
        "<br><br>\n",
        "\n",
        "| **Campo**                   | **Descrição** |\n",
        "|:----------------------------|:--------------|\n",
        "| CNPJ BÁSICO                 | NÚMERO BASE DE INSCRIÇÃO NO CNPJ (OITO PRIMEIROS DÍGITOS DO CNPJ).|\n",
        "| CNPJ ORDEM                  | NÚMERO DO ESTABELECIMENTO DE INSCRIÇÃO NO CNPJ (DO NONO ATÉ O DÉCIMO SEGUNDO DÍGITO DO CNPJ) |\n",
        "| CNPJ DV                     | DÍGITO VERIFICADOR DO NÚMERO DE INSCRIÇÃO NO CNPJ (DOIS ÚLTIMOS DÍGITOS DO CNPJ)|\n",
        "| IDENTIFICADOR MATRIZ/FILIAL | CÓDIGO DO IDENTIFICADOR MATRIZ/FILIAL: 1 – MATRIZ 2 – FILIAL|\n",
        "| NOME FANTASIA               | CORRESPONDE AO NOME FANTASIA|\n",
        "| SITUAÇÃO CADASTRAL          | CÓDIGO DA SITUAÇÃO CADASTRAL 1. NULA 2. ATIVA 3. SUSPENSA 4. INAPTA 8. BAIXADA|\n",
        "| DATA SITUAÇÃO CADASTRAL     | DATA DO EVENTO DA SITUAÇÃO CADASTRAL|\n",
        "| MOTIVO SITUAÇÃO CADASTRAL   | CÓDIGO DO MOTIVO DA SITUAÇÃO CADASTRAL|\n",
        "| NOME DA CIDADE NO EXTERIOR  | NOME DA CIDADE NO EXTERIOR|\n",
        "| PAIS                        | CÓDIGO DO PAIS|\n",
        "| DATA DE INÍCIO ATIVIDADE    | DATA DE INÍCIO DA ATIVIDADE|\n",
        "| CNAE FISCAL PRINCIPAL       | CÓDIGO DA ATIVIDADE ECONÔMICA PRINCIPAL DO ESTABELECIMENTO|\n",
        "| CNAE FISCAL SECUNDÁRIA      | CÓDIGO DA(S) ATIVIDADE(S) ECONÔMICA(S) SECUNDÁRIA(S) DO ESTABELECIMENTO|\n",
        "| TIPO DE LOGRADOURO          | DESCRIÇÃO DO TIPO DE LOGRADOURO|\n",
        "| LOGRADOURO                  | NOME DO LOGRADOURO ONDE SE LOCALIZA O ESTABELECIMENTO.|\n",
        "| NÚMERO                      | NÚMERO ONDE SE LOCALIZA O ESTABELECIMENTO. QUANDO NÃO HOUVER PREENCHIMENTO DO NÚMERO HAVERÁ ‘S/N’.|\n",
        "| COMPLEMENTO                 | COMPLEMENTO PARA O ENDEREÇO DE LOCALIZAÇÃO DO ESTABELECIMENTO|\n",
        "| BAIRRO                      | BAIRRO ONDE SE LOCALIZA O ESTABELECIMENTO.|\n",
        "| CEP                         | CÓDIGO DE ENDEREÇAMENTO POSTAL REFERENTE AO LOGRADOURO NO QUAL O ESTABELECIMENTO ESTA LOCALIZADO|\n",
        "| UF                          | SIGLA DA UNIDADE DA FEDERAÇÃO EM QUE SE ENCONTRA O ESTABELECIMENTO|\n",
        "| MUNICÍPIO                   | CÓDIGO DO MUNICÍPIO DE JURISDIÇÃO ONDE SE ENCONTRA O ESTABELECIMENTO|\n",
        "| DDD 1                       | CONTÉM O DDD 1|\n",
        "| TELEFONE 1                  | CONTÉM O NÚMERO DO TELEFONE 1|\n",
        "| DDD 2                       | CONTÉM O DDD 2|\n",
        "| TELEFONE 2                  | CONTÉM O NÚMERO DO TELEFONE 2|\n",
        "| DDD DO FAX                  | CONTÉM O DDD DO FAX|\n",
        "| FAX                         | CONTÉM O NÚMERO DO FAX|\n",
        "| CORREIO ELETRÔNICO          | CONTÉM O E-MAIL DO CONTRIBUINTE|\n",
        "| SITUAÇÃO ESPECIAL           | SITUAÇÃO ESPECIAL DA EMPRESA|\n",
        "| DATA DA SITUAÇÃO ESPECIAL   | DATA EM QUE A EMPRESA ENTROU EM SITUAÇÃO ESPECIAL|"
      ],
      "metadata": {
        "id": "oJPlF_yBo_kS"
      }
    },
    {
      "cell_type": "code",
      "source": [
        ""
      ],
      "metadata": {
        "id": "wTJdYMPYqV_w"
      },
      "execution_count": null,
      "outputs": []
    },
    {
      "cell_type": "markdown",
      "source": [
        "isso e um teste\n",
        "<br><br>\n",
        "\n",
        "|**Indíce**|**Campo**                     |**Tipo de variável**|**Utilizada?**|**Justificativa*                                                     |\n",
        "|:--------:|:-----------------------------|:-------------------|:------------:|:--------------------------------------------------------------------|\n",
        "| 0        | CNPJ BÁSICO                  | Objeto             | Sim          | Identicação da empresa                                              |\n",
        "| 1        | CNPJ ORDEM                   | Objeto             | Sim          | Identicação da empresa                                              |\n",
        "| 2        | CNPJ DV                      | Objeto             | Sim          | Identicação da empresa                                              |\n",
        "| 3        | IDENTIFICADOR MATRIZ/FILIAL  | Categórica         | Sim          | Identicação da empresa                                              |\n",
        "| 4        | NOME FANTASIA                | Objeto             | Sim          | Identicação da empresa                                              |\n",
        "| 5        | SITUAÇÃO CADASTRAL           | Categórica         | Sim          | Situação atual da empresa                                           |\n",
        "| 6        | DATA SITUAÇÃO CADASTRAL      | Datetime           | Sim          | Data da opção pela situação atual                                   |\n",
        "| 7        | MOTIVO SITUAÇÃO CADASTRAL    | Objeto             | Sim          | Motivo da situação atual                                            |\n",
        "| 8        | NOME DA CIDADE NO EXTERIOR   | Objeto             | Não          | Considera que a empresa esteja no Brasil                            |\n",
        "| 9        | PAIS                         | Categórica         | Não          | Considera que a empresa esteja no Brasil                            |\n",
        "| 10       | DATA DE INÍCIO ATIVIDADE     | Datetime           | Sim          | Data de entrada em atividade                                        |\n",
        "| 11       | CNAE FISCAL PRINCIPAL        | Objeto             | Sim          | Identificação do tipo de atividade principal da empresa             |\n",
        "| 12       | CNAE FISCAL SECUNDÁRIA       | Objeto             | Não          | A atividade principal é a mais relevante                            |\n",
        "| 13       | TIPO DE LOGRADOURO           | Objeto             | Não          | O endereço será obtido através do CEP                               |\n",
        "| 14       | LOGRADOURO                   | Objeto             | Não          | Muitos valores inconsistentes. O endereço será obtido através do CEP|\n",
        "| 15       | NÚMERO                       | Objeto             | Sim          | Localização da empresa                                              |\n",
        "| 16       | COMPLEMENTO                  | Objeto             | Sim          | Localização da empresa                                              |\n",
        "| 17       | BAIRRO                       | Objeto             | Não          | Muitos valores inconsistentes. O endereço será obtido através do CEP|\n",
        "| 18       | CEP                          | Objeto             | Sim          | Muitos valores inconsistentes. O endereço será obtido através do CEP|\n",
        "| 19       | UF                           | Categórica         | Não          | A escolha pelo município torna esta informação redundante           |\n",
        "| 20       | MUNICÍPIO                    | Objeto             | Sim          | Necessário para seleção do município                                |\n",
        "| 21       | DDD 1                        | Objeto             | Não          | Informação com muitos dados faltantes e desatualizada               |\n",
        "| 22       | TELEFONE 1                   | Objeto             | Não          | Informação com muitos dados faltantes e desatualizada               |\n",
        "| 23       | DDD 2                        | Objeto             | Não          | Informação com muitos dados faltantes e desatualizada               |\n",
        "| 24       | TELEFONE 2                   | Objeto             | Não          | Informação com muitos dados faltantes e desatualizada               |\n",
        "| 25       | DDD DO FAX                   | Objeto             | Não          | Informação com muitos dados faltantes e desatualizada               |\n",
        "| 26       | FAX                          | Objeto             | Não          | Informação com muitos dados faltantes e desatualizada               |\n",
        "| 27       | CORREIO ELETRÔNICO           | Objeto             | Não          | Informação com muitos dados faltantes e desatualizada               |\n",
        "| 28       | SITUAÇÃO ESPECIAL            | Objeto             | Sim          |                                                                     |\n",
        "| 29       | DATA DA SITUAÇÃO ESPECIAL    | Datatime           | Sim          |                                                                     |"
      ],
      "metadata": {
        "id": "-idU9U42ivgL"
      }
    },
    {
      "cell_type": "code",
      "execution_count": 1,
      "metadata": {
        "id": "g--2WP0wlz0w"
      },
      "outputs": [],
      "source": [
        "from zipfile import ZipFile\n",
        "import pandas as pd"
      ]
    },
    {
      "cell_type": "code",
      "source": [
        "zip_files = ['Estabelecimentos0.zip', 'Estabelecimentos1.zip', 'Estabelecimentos2.zip', 'Estabelecimentos3.zip', 'Estabelecimentos4.zip', \n",
        "         'Estabelecimentos5.zip', 'Estabelecimentos6.zip', 'Estabelecimentos7.zip', 'Estabelecimentos8.zip', 'Estabelecimentos9.zip']\n",
        "\n",
        "drive_path = '/content/drive/MyDrive/cnpj_dados/'"
      ],
      "metadata": {
        "id": "lUZ4lPai207N"
      },
      "execution_count": 2,
      "outputs": []
    },
    {
      "cell_type": "code",
      "source": [
        "for file_ in zip_files:\n",
        "    path = drive_path + file_\n",
        "    \n",
        "    with ZipFile(path, mode=\"r\") as archive:\n",
        "        archive.extractall()"
      ],
      "metadata": {
        "id": "FHO2aMnO38DP"
      },
      "execution_count": 3,
      "outputs": []
    },
    {
      "cell_type": "code",
      "source": [
        "csv_files = ['K3241.K03200Y0.D20709.ESTABELE', 'K3241.K03200Y1.D20709.ESTABELE', 'K3241.K03200Y2.D20709.ESTABELE', 'K3241.K03200Y3.D20709.ESTABELE', \n",
        "             'K3241.K03200Y4.D20709.ESTABELE', 'K3241.K03200Y5.D20709.ESTABELE', 'K3241.K03200Y6.D20709.ESTABELE', 'K3241.K03200Y7.D20709.ESTABELE', \n",
        "             'K3241.K03200Y8.D20709.ESTABELE', 'K3241.K03200Y9.D20709.ESTABELE']"
      ],
      "metadata": {
        "id": "g_rltkJE42Lm"
      },
      "execution_count": 4,
      "outputs": []
    },
    {
      "cell_type": "code",
      "source": [
        "nome_colunas = ['cnpj_basico', 'cnpj_ordem', 'cnpj_dv', 'identificador_matriz_filial', 'nome_fantasia', 'situacao_cadastral', 'data_situacao_cadastral',\n",
        "                'motivo_situacao_cadastral', 'data_de_inicio_atividade', 'cnae_fiscal_principal', 'numero', 'complemento', 'cep', 'municipio']"
      ],
      "metadata": {
        "id": "aNa3Z4ZXtPTK"
      },
      "execution_count": 5,
      "outputs": []
    },
    {
      "cell_type": "code",
      "source": [
        "tipo_colunas = {'cnpj_basico':'object', 'cnpj_ordem':'object', 'cnpj_dv':'object', 'identificador_matriz_filial':'category',\n",
        "              'nome_fantasia':'object', 'situacao_cadastral':'category', 'motivo_situacao_cadastral':'category', 'cnae_fiscal_principal':'object',\n",
        "              'numero':'object', 'complemento':'object', 'cep':'object', 'municipio':'object',\n",
        "              'data_situacao_cadastral':'object', 'data_de_inicio_atividade':'object'}"
      ],
      "metadata": {
        "id": "PmpPyMd9tvbG"
      },
      "execution_count": 6,
      "outputs": []
    },
    {
      "cell_type": "code",
      "source": [
        "codigo_municipio = '5035'"
      ],
      "metadata": {
        "id": "a32O-kVqlRG3"
      },
      "execution_count": 7,
      "outputs": []
    },
    {
      "cell_type": "code",
      "source": [
        "for csv in csv_files:\n",
        "    # path_colab = '/content/' + csv\n",
        "\n",
        "    if csv == 'K3241.K03200Y0.D20709.ESTABELE':\n",
        "        df = pd.read_csv(csv, sep=\";\", encoding='ISO-8859-1', header=None, low_memory=False, \n",
        "                         usecols=[0,1,2,3,4,5,6,7,10,11,15,16,18,20], names=nome_colunas, dtype=tipo_colunas)\n",
        "        print (f'O arquivo {csv} possui {len(df)} linhas.')\n",
        "        df = df.query(\"municipio == @ codigo_municipio\")\n",
        "        print (f'O arquivo {csv} possui {len(df)} linhas referentes ao municipio {codigo_municipio}.\\n')\n",
        "    else:\n",
        "        df2 = pd.read_csv(csv, sep=\";\", encoding='ISO-8859-1', header=None, low_memory=False, \n",
        "                          usecols=[0,1,2,3,4,5,6,7,10,11,15,16,18,20], names=nome_colunas, dtype=tipo_colunas)\n",
        "        print (f'O arquivo {csv} possui {len(df2)} linhas.')        \n",
        "        df2 = df2.query(\"municipio == @ codigo_municipio\")\n",
        "        print (f'O arquivo {csv} possui {len(df2)} linhas referentes ao municipio {codigo_municipio}.\\n')\n",
        "        df = pd.concat([df, df2], ignore_index=True)"
      ],
      "metadata": {
        "id": "isuXGrsY-gXt",
        "colab": {
          "base_uri": "https://localhost:8080/"
        },
        "outputId": "bfe7eb19-e487-464d-fc51-e4ded51704aa"
      },
      "execution_count": 8,
      "outputs": [
        {
          "output_type": "stream",
          "name": "stdout",
          "text": [
            "O arquivo K3241.K03200Y0.D20709.ESTABELE possui 10431926 linhas.\n",
            "O arquivo K3241.K03200Y0.D20709.ESTABELE possui 10555 linhas referentes ao municipio 5035.\n",
            "\n",
            "O arquivo K3241.K03200Y1.D20709.ESTABELE possui 4753435 linhas.\n",
            "O arquivo K3241.K03200Y1.D20709.ESTABELE possui 4783 linhas referentes ao municipio 5035.\n",
            "\n",
            "O arquivo K3241.K03200Y2.D20709.ESTABELE possui 4753435 linhas.\n",
            "O arquivo K3241.K03200Y2.D20709.ESTABELE possui 4799 linhas referentes ao municipio 5035.\n",
            "\n",
            "O arquivo K3241.K03200Y3.D20709.ESTABELE possui 4753435 linhas.\n",
            "O arquivo K3241.K03200Y3.D20709.ESTABELE possui 4959 linhas referentes ao municipio 5035.\n",
            "\n",
            "O arquivo K3241.K03200Y4.D20709.ESTABELE possui 4753435 linhas.\n",
            "O arquivo K3241.K03200Y4.D20709.ESTABELE possui 4954 linhas referentes ao municipio 5035.\n",
            "\n",
            "O arquivo K3241.K03200Y5.D20709.ESTABELE possui 4753435 linhas.\n",
            "O arquivo K3241.K03200Y5.D20709.ESTABELE possui 4912 linhas referentes ao municipio 5035.\n",
            "\n",
            "O arquivo K3241.K03200Y6.D20709.ESTABELE possui 4753435 linhas.\n",
            "O arquivo K3241.K03200Y6.D20709.ESTABELE possui 5077 linhas referentes ao municipio 5035.\n",
            "\n",
            "O arquivo K3241.K03200Y7.D20709.ESTABELE possui 4753435 linhas.\n",
            "O arquivo K3241.K03200Y7.D20709.ESTABELE possui 4943 linhas referentes ao municipio 5035.\n",
            "\n",
            "O arquivo K3241.K03200Y8.D20709.ESTABELE possui 4753435 linhas.\n",
            "O arquivo K3241.K03200Y8.D20709.ESTABELE possui 5011 linhas referentes ao municipio 5035.\n",
            "\n",
            "O arquivo K3241.K03200Y9.D20709.ESTABELE possui 4753435 linhas.\n",
            "O arquivo K3241.K03200Y9.D20709.ESTABELE possui 4610 linhas referentes ao municipio 5035.\n",
            "\n"
          ]
        }
      ]
    },
    {
      "cell_type": "code",
      "source": [
        "df.info()"
      ],
      "metadata": {
        "colab": {
          "base_uri": "https://localhost:8080/"
        },
        "id": "qTnX_HhJ1Yxw",
        "outputId": "23daca76-8def-41d6-e3f7-58f5fecacb72"
      },
      "execution_count": 9,
      "outputs": [
        {
          "output_type": "stream",
          "name": "stdout",
          "text": [
            "<class 'pandas.core.frame.DataFrame'>\n",
            "RangeIndex: 54603 entries, 0 to 54602\n",
            "Data columns (total 14 columns):\n",
            " #   Column                       Non-Null Count  Dtype   \n",
            "---  ------                       --------------  -----   \n",
            " 0   cnpj_basico                  54603 non-null  object  \n",
            " 1   cnpj_ordem                   54603 non-null  object  \n",
            " 2   cnpj_dv                      54603 non-null  object  \n",
            " 3   identificador_matriz_filial  54603 non-null  category\n",
            " 4   nome_fantasia                34431 non-null  object  \n",
            " 5   situacao_cadastral           54603 non-null  category\n",
            " 6   data_situacao_cadastral      54603 non-null  object  \n",
            " 7   motivo_situacao_cadastral    54603 non-null  object  \n",
            " 8   data_de_inicio_atividade     54603 non-null  object  \n",
            " 9   cnae_fiscal_principal        54603 non-null  object  \n",
            " 10  numero                       54603 non-null  object  \n",
            " 11  complemento                  18056 non-null  object  \n",
            " 12  cep                          54603 non-null  object  \n",
            " 13  municipio                    54603 non-null  object  \n",
            "dtypes: category(2), object(12)\n",
            "memory usage: 5.1+ MB\n"
          ]
        }
      ]
    },
    {
      "cell_type": "code",
      "source": [
        "df['motivo_situacao_cadastral'] = df['motivo_situacao_cadastral'].astype('category')\n",
        "df.info()"
      ],
      "metadata": {
        "colab": {
          "base_uri": "https://localhost:8080/"
        },
        "id": "DFb--dn2o4AZ",
        "outputId": "1df9562d-8120-40dc-b8f3-080f46db0b6c"
      },
      "execution_count": 10,
      "outputs": [
        {
          "output_type": "stream",
          "name": "stdout",
          "text": [
            "<class 'pandas.core.frame.DataFrame'>\n",
            "RangeIndex: 54603 entries, 0 to 54602\n",
            "Data columns (total 14 columns):\n",
            " #   Column                       Non-Null Count  Dtype   \n",
            "---  ------                       --------------  -----   \n",
            " 0   cnpj_basico                  54603 non-null  object  \n",
            " 1   cnpj_ordem                   54603 non-null  object  \n",
            " 2   cnpj_dv                      54603 non-null  object  \n",
            " 3   identificador_matriz_filial  54603 non-null  category\n",
            " 4   nome_fantasia                34431 non-null  object  \n",
            " 5   situacao_cadastral           54603 non-null  category\n",
            " 6   data_situacao_cadastral      54603 non-null  object  \n",
            " 7   motivo_situacao_cadastral    54603 non-null  category\n",
            " 8   data_de_inicio_atividade     54603 non-null  object  \n",
            " 9   cnae_fiscal_principal        54603 non-null  object  \n",
            " 10  numero                       54603 non-null  object  \n",
            " 11  complemento                  18056 non-null  object  \n",
            " 12  cep                          54603 non-null  object  \n",
            " 13  municipio                    54603 non-null  object  \n",
            "dtypes: category(3), object(11)\n",
            "memory usage: 4.7+ MB\n"
          ]
        }
      ]
    },
    {
      "cell_type": "code",
      "source": [
        "df.drop('municipio', inplace=True, axis=1)\n",
        "df.info()"
      ],
      "metadata": {
        "colab": {
          "base_uri": "https://localhost:8080/"
        },
        "id": "87Rlxh5s1QRQ",
        "outputId": "2b6afa54-5b54-4a87-b983-c9b6a45ce49b"
      },
      "execution_count": 11,
      "outputs": [
        {
          "output_type": "stream",
          "name": "stdout",
          "text": [
            "<class 'pandas.core.frame.DataFrame'>\n",
            "RangeIndex: 54603 entries, 0 to 54602\n",
            "Data columns (total 13 columns):\n",
            " #   Column                       Non-Null Count  Dtype   \n",
            "---  ------                       --------------  -----   \n",
            " 0   cnpj_basico                  54603 non-null  object  \n",
            " 1   cnpj_ordem                   54603 non-null  object  \n",
            " 2   cnpj_dv                      54603 non-null  object  \n",
            " 3   identificador_matriz_filial  54603 non-null  category\n",
            " 4   nome_fantasia                34431 non-null  object  \n",
            " 5   situacao_cadastral           54603 non-null  category\n",
            " 6   data_situacao_cadastral      54603 non-null  object  \n",
            " 7   motivo_situacao_cadastral    54603 non-null  category\n",
            " 8   data_de_inicio_atividade     54603 non-null  object  \n",
            " 9   cnae_fiscal_principal        54603 non-null  object  \n",
            " 10  numero                       54603 non-null  object  \n",
            " 11  complemento                  18056 non-null  object  \n",
            " 12  cep                          54603 non-null  object  \n",
            "dtypes: category(3), object(10)\n",
            "memory usage: 4.3+ MB\n"
          ]
        }
      ]
    },
    {
      "cell_type": "code",
      "source": [
        "df = df.replace('[\":;,]',' ', regex=True)"
      ],
      "metadata": {
        "id": "qiMk34suz-i4"
      },
      "execution_count": 12,
      "outputs": []
    },
    {
      "cell_type": "code",
      "source": [
        "nome_cidade = 'df_municipio_' + codigo_municipio + '.csv'"
      ],
      "metadata": {
        "id": "RhqmyP_Kskum"
      },
      "execution_count": 13,
      "outputs": []
    },
    {
      "cell_type": "code",
      "source": [
        "df.to_csv(nome_cidade, index=False, encoding='utf-8', na_rep='')"
      ],
      "metadata": {
        "id": "POlqFbhy2BNX"
      },
      "execution_count": 14,
      "outputs": []
    }
  ]
}