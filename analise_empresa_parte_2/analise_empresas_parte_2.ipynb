{
  "cells": [
    {
      "cell_type": "markdown",
      "metadata": {
        "id": "G94343nrQI83"
      },
      "source": [
        "# **_Análise de empresas com base nos Dados Abertos do Governo Federal_**\n",
        "## _Parte 2_"
      ]
    },
    {
      "cell_type": "markdown",
      "metadata": {
        "id": "yvN0723Mlb86"
      },
      "source": [
        "<br>\n",
        "\n",
        "## _*Luiz Flavio Pereira*_\n",
        "### [Linkedin](https://www.linkedin.com/in/luiz-flavio-pereira/) | [GitHub](https://github.com/lflaviop) | [Medium](https://medium.com/@lflavio) | [Kaggle](https://www.kaggle.com/luizflaviopereira)\n",
        "\n",
        "<br>"
      ]
    },
    {
      "cell_type": "markdown",
      "metadata": {
        "id": "8yJNr1RuQNK2"
      },
      "source": [
        "## **Introdução**\n",
        "Esta segunda parte do trabalho tem por finalidade gerar um arquivo *.csv que mescla os dados obtidos na parte 1 deste projeto [(Disponível aqui)](https://github.com/lflaviop/analise_empresas/tree/master/analise_empresa_parte_1), com as informações específicas de cada empresa. Após a seleção, filtragem, tratamento dos dados e junção das tabelas, será gerado um arquivo csv combinado com os dados dos estabelecimentos e informações da empresa, que será utilizado na parte 3 deste projeto."
      ]
    },
    {
      "cell_type": "markdown",
      "metadata": {
        "id": "byWMkrmIlb9A"
      },
      "source": [
        "![data_analysis_2.jpeg](https://miro.medium.com/max/700/0*ILEcSZjGVxl3zNLn)"
      ]
    },
    {
      "cell_type": "markdown",
      "metadata": {
        "id": "1SjngWrFRa4G"
      },
      "source": [
        "## **Execução da segunda parte do projeto**\n",
        "\n",
        "Para os dados contidos nesta categoria não é possível a filtragem por município como realizado na parte 1 deste projeto, recurso que reduz drasticamente o tamanho do dataframe gerado. Assim, todo o dataset deve lido e convertido em dataframe. \n",
        "\n",
        "Devido ao enorme tamanho dos arquivos de dados das empresas e devido ao fato de ser necessário fazer o cruzamento e junção da tabela obtida na 1ª parte do trabalho com os arquivos descompactados, que totaliza mais de 50,4 milhões de linhas, não foi possível a execução desta tarefa com a biblioteca Pandas, uma vez que a memória disponibilizada pelo Google Colab não foi suficiente para a rotina. Assim sendo foi-se optado pela utilização da engine Spark através da API PySpark.\n",
        "\n",
        "As principais etapas da 2ª parte são descritas abaixo:\n",
        "\n",
        "* obtenção dos dados relativos às EMPRESAS;\n",
        "* remoção das features desnecessárias ao escopo deste projeto;\n",
        "* junção com os dados obtidos na parte 1 do projeto;\n",
        "* tratamento dos dados;\n",
        "* geração de arquivo de dados com as informações das empresas do município de interesse.\n",
        "<br><br>\n",
        "\n",
        "_O notebook do projeto pode ser acessado através do [GitHub](https://github.com/lflaviop/analise_empresas)._"
      ]
    },
    {
      "cell_type": "markdown",
      "metadata": {
        "id": "A3XBvJBLFhfW"
      },
      "source": [
        "## **Importante**\n",
        "\n",
        "Por conveniência o projeto foi todo realizado no ambiente de desenvolvimento `Google Colab` (memória disponibilizada e possibilidade de se utilizar os arquivos diretamente do Google Drive). Entretanto, o mesmo pode ser executado em qualquer outro ambiente de desenvolvimento desde que as bibliotecas, recursos e a base de dados necessários à execução estejam disponíveis."
      ]
    },
    {
      "cell_type": "code",
      "execution_count": null,
      "metadata": {
        "id": "q3wxsSVzF1nf"
      },
      "outputs": [],
      "source": []
    },
    {
      "cell_type": "markdown",
      "metadata": {
        "id": "IP2S8-s7GAdh"
      },
      "source": [
        "## **_1. Setup do Spark_**\n",
        "\n",
        "As etapas abaixo se fazem necessárias para a execução do PySpark no ambiente do Google Colab."
      ]
    },
    {
      "cell_type": "code",
      "execution_count": 1,
      "metadata": {
        "id": "FubogW--ekmD",
        "colab": {
          "base_uri": "https://localhost:8080/"
        },
        "outputId": "c2b2f7e8-4cb2-4467-c8a6-c327c84ca1b0"
      },
      "outputs": [
        {
          "output_type": "stream",
          "name": "stdout",
          "text": [
            "\r0% [Working]\r            \rGet:1 https://cloud.r-project.org/bin/linux/ubuntu bionic-cran40/ InRelease [3,626 B]\n",
            "\r0% [Waiting for headers] [Connecting to security.ubuntu.com (185.125.190.36)] [\r0% [Waiting for headers] [Connecting to security.ubuntu.com (185.125.190.36)] [\r                                                                               \rHit:2 http://archive.ubuntu.com/ubuntu bionic InRelease\n",
            "\r0% [Waiting for headers] [Connecting to security.ubuntu.com (185.125.190.36)] [\r0% [1 InRelease gpgv 3,626 B] [Waiting for headers] [Connecting to security.ubu\r                                                                               \rGet:3 http://archive.ubuntu.com/ubuntu bionic-updates InRelease [88.7 kB]\n",
            "\r0% [1 InRelease gpgv 3,626 B] [3 InRelease 14.2 kB/88.7 kB 16%] [Connecting to \r0% [1 InRelease gpgv 3,626 B] [Waiting for headers] [Waiting for headers] [Wait\r                                                                               \rGet:4 http://archive.ubuntu.com/ubuntu bionic-backports InRelease [74.6 kB]\n",
            "\r0% [1 InRelease gpgv 3,626 B] [4 InRelease 8,394 B/74.6 kB 11%] [Waiting for he\r0% [1 InRelease gpgv 3,626 B] [Waiting for headers] [Waiting for headers] [Wait\r                                                                               \rGet:5 http://security.ubuntu.com/ubuntu bionic-security InRelease [88.7 kB]\n",
            "Hit:6 http://ppa.launchpad.net/c2d4u.team/c2d4u4.0+/ubuntu bionic InRelease\n",
            "Ign:7 https://developer.download.nvidia.com/compute/machine-learning/repos/ubuntu1804/x86_64  InRelease\n",
            "Hit:8 https://developer.download.nvidia.com/compute/cuda/repos/ubuntu1804/x86_64  InRelease\n",
            "Hit:9 https://developer.download.nvidia.com/compute/machine-learning/repos/ubuntu1804/x86_64  Release\n",
            "Hit:10 http://ppa.launchpad.net/cran/libgit2/ubuntu bionic InRelease\n",
            "Hit:11 http://ppa.launchpad.net/deadsnakes/ppa/ubuntu bionic InRelease\n",
            "Get:12 http://archive.ubuntu.com/ubuntu bionic-updates/main amd64 Packages [3,397 kB]\n",
            "Get:13 http://archive.ubuntu.com/ubuntu bionic-updates/universe amd64 Packages [2,318 kB]\n",
            "Hit:14 http://ppa.launchpad.net/graphics-drivers/ppa/ubuntu bionic InRelease\n",
            "Get:16 http://security.ubuntu.com/ubuntu bionic-security/universe amd64 Packages [1,540 kB]\n",
            "Get:17 http://security.ubuntu.com/ubuntu bionic-security/main amd64 Packages [2,965 kB]\n",
            "Fetched 10.5 MB in 2s (4,999 kB/s)\n",
            "Reading package lists... Done\n"
          ]
        }
      ],
      "source": [
        "# Atualização do ambiente do Google Colab\n",
        "\n",
        "!apt-get update"
      ]
    },
    {
      "cell_type": "code",
      "execution_count": 2,
      "metadata": {
        "id": "jBYFSlD2f-Xi"
      },
      "outputs": [],
      "source": [
        "# Instalação do Spark no ambiente do Google Colab\n",
        "\n",
        "!apt-get install openjdk-8-jdk-headless -qq > /dev/null\n",
        "!wget -q https://archive.apache.org/dist/spark/spark-3.2.0/spark-3.2.0-bin-hadoop3.2.tgz\n",
        "!tar xf spark-3.2.0-bin-hadoop3.2.tgz\n",
        "!pip install -q findspark"
      ]
    },
    {
      "cell_type": "code",
      "execution_count": 3,
      "metadata": {
        "id": "oRdzMkKigD5J"
      },
      "outputs": [],
      "source": [
        "# Importacao das bibliotecas do Spark e da API PySpark\n",
        "\n",
        "import findspark\n",
        "findspark.init('spark-3.2.0-bin-hadoop3.2')\n",
        "\n",
        "import pyspark\n",
        "sc = pyspark.SparkContext(appName='cnpj_pyspark')\n",
        "\n",
        "from pyspark.sql import SparkSession\n",
        "spark = SparkSession.builder.getOrCreate()\n",
        "\n",
        "from pyspark.sql.functions import round, col\n",
        "from pyspark.sql.types import StructType, StringType"
      ]
    },
    {
      "cell_type": "markdown",
      "metadata": {
        "id": "Sle_-6gCHZMt"
      },
      "source": [
        "_______________\n",
        "## **_2. Setup do projeto_**\n"
      ]
    },
    {
      "cell_type": "code",
      "execution_count": 4,
      "metadata": {
        "id": "5i-YvqeCgTOr"
      },
      "outputs": [],
      "source": [
        "# Importacao das bibliotecas necessarias a execucao das rotinas\n",
        "\n",
        "import pandas as pd\n",
        "from zipfile import ZipFile"
      ]
    },
    {
      "cell_type": "code",
      "execution_count": 5,
      "metadata": {
        "id": "W50H9ZnNIKzJ"
      },
      "outputs": [],
      "source": [
        "# Remoção dos avisos de \"warning\" durante a execucao do programa\n",
        "\n",
        "import warnings\n",
        "warnings.filterwarnings(\"ignore\")"
      ]
    },
    {
      "cell_type": "code",
      "source": [
        "# Montagem do Google Drive no ambiente do Google Colab\n",
        "\n",
        "from google.colab import drive\n",
        "drive.mount('/content/drive')"
      ],
      "metadata": {
        "colab": {
          "base_uri": "https://localhost:8080/"
        },
        "id": "AwnPtmCUl2R5",
        "outputId": "f5892566-1f84-4940-b8e6-12f0dc81d9c5"
      },
      "execution_count": 6,
      "outputs": [
        {
          "output_type": "stream",
          "name": "stdout",
          "text": [
            "Mounted at /content/drive\n"
          ]
        }
      ]
    },
    {
      "cell_type": "code",
      "execution_count": 7,
      "metadata": {
        "id": "lnLji_S4YXA4"
      },
      "outputs": [],
      "source": [
        "# Endereco do pasta com os arquivos do projeto no Google Drive\n",
        "# Importante: o caminho das pastas devera ser alterado conforme o drive do usuario\n",
        "\n",
        "drive_path = '/content/drive/MyDrive/cnpj_dados/'"
      ]
    },
    {
      "cell_type": "code",
      "execution_count": 8,
      "metadata": {
        "id": "WEUvoyMPgfTh"
      },
      "outputs": [],
      "source": [
        "# Lista para iteracao e descompactacao dos arquivos no ambiente do Google Colab\n",
        "\n",
        "zip_files = ['Empresas0.zip', 'Empresas1.zip', 'Empresas2.zip', 'Empresas3.zip', 'Empresas4.zip', \n",
        "             'Empresas5.zip', 'Empresas6.zip', 'Empresas7.zip', 'Empresas8.zip', 'Empresas9.zip']"
      ]
    },
    {
      "cell_type": "code",
      "execution_count": 9,
      "metadata": {
        "colab": {
          "base_uri": "https://localhost:8080/"
        },
        "id": "l_nXDVpaglPp",
        "outputId": "3e611b63-5b5a-46e8-eff1-3fc9e70f3917"
      },
      "outputs": [
        {
          "output_type": "stream",
          "name": "stdout",
          "text": [
            "O arquivo Empresas0.zip foi descompactado.\n",
            "O arquivo Empresas1.zip foi descompactado.\n",
            "O arquivo Empresas2.zip foi descompactado.\n",
            "O arquivo Empresas3.zip foi descompactado.\n",
            "O arquivo Empresas4.zip foi descompactado.\n",
            "O arquivo Empresas5.zip foi descompactado.\n",
            "O arquivo Empresas6.zip foi descompactado.\n",
            "O arquivo Empresas7.zip foi descompactado.\n",
            "O arquivo Empresas8.zip foi descompactado.\n",
            "O arquivo Empresas9.zip foi descompactado.\n"
          ]
        }
      ],
      "source": [
        "# Descompactacao dos arquivos\n",
        "\n",
        "for zip_file in zip_files:\n",
        "    path = drive_path + zip_file\n",
        "    \n",
        "    with ZipFile(path, mode=\"r\") as archive:\n",
        "        archive.extractall()\n",
        "    \n",
        "    print(f'O arquivo {zip_file} foi descompactado.')"
      ]
    },
    {
      "cell_type": "code",
      "execution_count": 10,
      "metadata": {
        "colab": {
          "base_uri": "https://localhost:8080/"
        },
        "id": "bMxwl5zsc7GO",
        "outputId": "0220dcbb-339d-44dd-ffaa-c6c1ec097c9f"
      },
      "outputs": [
        {
          "output_type": "stream",
          "name": "stdout",
          "text": [
            "drive\t\t\t\tK3241.K03200Y6.D20709.EMPRECSV\n",
            "K3241.K03200Y0.D20709.EMPRECSV\tK3241.K03200Y7.D20709.EMPRECSV\n",
            "K3241.K03200Y1.D20709.EMPRECSV\tK3241.K03200Y8.D20709.EMPRECSV\n",
            "K3241.K03200Y2.D20709.EMPRECSV\tK3241.K03200Y9.D20709.EMPRECSV\n",
            "K3241.K03200Y3.D20709.EMPRECSV\tsample_data\n",
            "K3241.K03200Y4.D20709.EMPRECSV\tspark-3.2.0-bin-hadoop3.2\n",
            "K3241.K03200Y5.D20709.EMPRECSV\tspark-3.2.0-bin-hadoop3.2.tgz\n"
          ]
        }
      ],
      "source": [
        "# Arquivos constantes no ambiente do Google Colab\n",
        "\n",
        "! ls"
      ]
    },
    {
      "cell_type": "code",
      "execution_count": 11,
      "metadata": {
        "id": "J1Ohf7gzgu1D"
      },
      "outputs": [],
      "source": [
        "# Lista dos nomes dos arquivos descompactados para iteracao e geracao do dataframe com os dados das empresas\n",
        "\n",
        "csv_files = ['K3241.K03200Y0.D20709.EMPRECSV', 'K3241.K03200Y1.D20709.EMPRECSV', 'K3241.K03200Y2.D20709.EMPRECSV', 'K3241.K03200Y3.D20709.EMPRECSV', \n",
        "             'K3241.K03200Y4.D20709.EMPRECSV', 'K3241.K03200Y5.D20709.EMPRECSV', 'K3241.K03200Y6.D20709.EMPRECSV', 'K3241.K03200Y7.D20709.EMPRECSV', \n",
        "             'K3241.K03200Y8.D20709.EMPRECSV', 'K3241.K03200Y9.D20709.EMPRECSV']"
      ]
    },
    {
      "cell_type": "markdown",
      "metadata": {
        "id": "aepnlQz13kKJ"
      },
      "source": [
        "## **_3. Geração do dataframe do dataset das Empresas_**"
      ]
    },
    {
      "cell_type": "markdown",
      "metadata": {
        "id": "Z9hJiakG4APZ"
      },
      "source": [
        "A documentação contendo os _layouts_ dos arquivos disponibilizados pode ser encontrada neste [link](https://www.gov.br/receitafederal/pt-br/assuntos/orientacao-tributaria/cadastros/consultas/arquivos/novolayoutdosdadosabertosdocnpj-dez2021.pdf). De qualquer forma, as tabelas abaixo apresentam uma breve descrição das características contidas nos dados referentes apenas aos estabelecimentos e a justificativa para utilização ou não das _features_ neste trabalho.\n",
        "<br><br>\n",
        "\n",
        "| **Campo**                   | **Descrição** |\n",
        "|:----------------------------|:--------------|\n",
        "| CNPJ BÁSICO                  | NÚMERO BASE DE INSCRIÇÃO NO CNPJ (OITO PRIMEIROS DÍGITOS DO CNPJ).|\n",
        "| RAZÃO SOCIAL/NOME EMPRESARIAL| NOME EMPRESARIAL DA PESSOA JURÍDICA |\n",
        "| NATUREZA JURÍDICA            | CÓDIGO DA NATUREZA JURÍDICA         |\n",
        "| QUALIFICAÇÃO RESPONSÁVEL     | QUALIFICAÇÃO DA PESSOA FÍSICA RESPONSÁVEL PELA EMPRESA|\n",
        "| CAPITAL SOCIAL DA EMPRESA    | CAPITAL SOCIAL DA EMPRESA |\n",
        "| PORTE DA EMPRESA             | CÓDIGO DO PORTE DA EMPRESA: 00. NÃO INFORMADO; 01. MICRO EMPRESA; 03. EMPRESA DE PEQUENO PORTE; 05. DEMAIS|\n",
        "| ENTE FEDERATIVO RESPONSÁVEL  | O ENTE FEDERATIVO RESPONSÁVEL É PREENCHIDO PARA OS CASOS DE ÓRGÃOS E ENTIDADES DO GRUPO DE NATUREZA JURÍDICA 1XXX. PARA AS DEMAIS NATUREZAS, ESTE ATRIBUTO FICA EM BRANCO.|"
      ]
    },
    {
      "cell_type": "code",
      "execution_count": 11,
      "metadata": {
        "id": "oq3eTUTj5uZ6"
      },
      "outputs": [],
      "source": []
    },
    {
      "cell_type": "markdown",
      "metadata": {
        "id": "yB1pvBy95uib"
      },
      "source": [
        "Após análise preliminar dos dados e pautado pela motivação do projeto foram selecionadas as seguintes colunas conforme descrito abaixo.\n",
        "Para não haver perda de informações, mesmo as variáveis numéricas serão importadas como strings.\n",
        "<br><br>\n",
        "\n",
        "|**Indíce**|**Campo**                     |**Tipo de variável**|**Utilizada?**|**Justificativa**                                                     |\n",
        "|:--------:|:-----------------------------|:-------------------:|:------------:|:--------------------------------------------------------------------|\n",
        "| 0        | CNPJ BÁSICO                  | Objeto             | Sim          | Identificação da empresa                                              |\n",
        "| 1        | RAZÃO SOCIAL/NOME EMPRESARIAL                  | Objeto             | Sim          | Identificação da empresa |\n",
        "| 2        | NATUREZA JURÍDICA                      | Objeto             | Sim          | Define a natureza jurídica da empresa |\n",
        "| 3        | QUALIFICAÇÃO RESPONSÁVEL  | Objeto         | Não          | Item não considerado relevante para esta análise |\n",
        "| 4        | CAPITAL SOCIAL DA EMPRESA                | Objeto             | Sim          | Define o capital social da empresa e pode indicar o porte da mesma |\n",
        "| 5        | PORTE DA EMPRESA           | Objeto         | Sim          | Define o porte da empresa e tipo de cadastro |\n",
        "| 6        | ENTE FEDERATIVO RESPONSÁVEL      | Objeto           | Não          | Item não considerado relevante para esta análise |"
      ]
    },
    {
      "cell_type": "code",
      "execution_count": 11,
      "metadata": {
        "id": "jUy81G6z8MXY"
      },
      "outputs": [],
      "source": []
    },
    {
      "cell_type": "code",
      "execution_count": 12,
      "metadata": {
        "id": "r39HlDHledfm"
      },
      "outputs": [],
      "source": [
        "# Definicao do schema do dataframe do PySpark para importacao dos dados dos datasets\n",
        "\n",
        "schema = StructType().add(\"cnpj_basico_2\", StringType(),True) \\\n",
        "                     .add(\"razao_social\", StringType(),True) \\\n",
        "                     .add(\"natureza_juridica\", StringType(),True) \\\n",
        "                     .add(\"qualificacao\", StringType(),True) \\\n",
        "                     .add(\"capital_social\", StringType(),True) \\\n",
        "                     .add(\"porte_empresa\", StringType(),True) \\\n",
        "                     .add(\"ente_federativo\", StringType(),True)"
      ]
    },
    {
      "cell_type": "code",
      "execution_count": 13,
      "metadata": {
        "colab": {
          "base_uri": "https://localhost:8080/"
        },
        "id": "qgLZ-fCmp3u-",
        "outputId": "415a2bfd-905a-4d55-a16e-a90ba74fbad9"
      },
      "outputs": [
        {
          "output_type": "stream",
          "name": "stdout",
          "text": [
            "O dataset K3241.K03200Y0.D20709.EMPRECSV possui 10011164 linhas.\n",
            "O dataset K3241.K03200Y1.D20709.EMPRECSV possui 4494860 linhas.\n",
            "O dataset K3241.K03200Y2.D20709.EMPRECSV possui 4494860 linhas.\n",
            "O dataset K3241.K03200Y3.D20709.EMPRECSV possui 4494860 linhas.\n",
            "O dataset K3241.K03200Y4.D20709.EMPRECSV possui 4494860 linhas.\n",
            "O dataset K3241.K03200Y5.D20709.EMPRECSV possui 4494860 linhas.\n",
            "O dataset K3241.K03200Y6.D20709.EMPRECSV possui 4494860 linhas.\n",
            "O dataset K3241.K03200Y7.D20709.EMPRECSV possui 4494860 linhas.\n",
            "O dataset K3241.K03200Y8.D20709.EMPRECSV possui 4494860 linhas.\n",
            "O dataset K3241.K03200Y9.D20709.EMPRECSV possui 4494860 linhas.\n"
          ]
        }
      ],
      "source": [
        "# Esta rotina efetua a leitura dos 10 arquivos csv das empresas, descompactados previamente\n",
        "# um por vez, e os armazena em um dataframe, que sera utilizado no restante do codigo\n",
        "\n",
        "for csv in csv_files:\n",
        "    if csv == 'K3241.K03200Y0.D20709.EMPRECSV':\n",
        "        df = spark.read.csv(csv, nullValue='NA', sep=';', schema=schema)\n",
        "        print(f'O dataset {csv} possui {df.count()} linhas.')\n",
        "    else:\n",
        "        df2 = spark.read.csv(csv, nullValue='NA', sep=';', schema=schema)\n",
        "        print(f'O dataset {csv} possui {df2.count()} linhas.')\n",
        "\n",
        "        df = df.unionByName(df2)"
      ]
    },
    {
      "cell_type": "code",
      "execution_count": 14,
      "metadata": {
        "colab": {
          "base_uri": "https://localhost:8080/"
        },
        "id": "Hcv0R-RMp3x-",
        "outputId": "42792616-9973-49ae-c3af-5946dc224b58"
      },
      "outputs": [
        {
          "output_type": "stream",
          "name": "stdout",
          "text": [
            "O dataframe df possui 50464904 linhas e 7 colunas\n"
          ]
        }
      ],
      "source": [
        "# Apresenta a forma do dataframe\n",
        "\n",
        "print(f'O dataframe df possui {df.count()} linhas e {len(df.columns)} colunas')"
      ]
    },
    {
      "cell_type": "code",
      "execution_count": 15,
      "metadata": {
        "colab": {
          "base_uri": "https://localhost:8080/"
        },
        "id": "rYu8rnpUw3FL",
        "outputId": "44d4f1e1-021c-47f0-ecd3-3ccefb925b65"
      },
      "outputs": [
        {
          "output_type": "stream",
          "name": "stdout",
          "text": [
            "+-------------+--------------------+-----------------+------------+--------------+-------------+---------------+\n",
            "|cnpj_basico_2|        razao_social|natureza_juridica|qualificacao|capital_social|porte_empresa|ente_federativo|\n",
            "+-------------+--------------------+-----------------+------------+--------------+-------------+---------------+\n",
            "|     41273600|AVANILSON BRUNO M...|             2135|          50|      50000,00|           01|               |\n",
            "|     41273601|GABRIELA HELENA F...|             2135|          50|       2000,00|           01|               |\n",
            "|     41273602|FABIO SOUZA DO RO...|             2135|          50|      15000,00|           01|               |\n",
            "|     41273603|GRAFLINE ACESSORI...|             2062|          49|      10000,00|           01|               |\n",
            "|     41273604|RUMO - ESTUDIO DE...|             2062|          49|      10000,00|           01|               |\n",
            "|     41273605|WALLACE DE OLIVEI...|             2135|          50|       1000,00|           01|               |\n",
            "|     41273606|MARCOS CESAR DE M...|             2135|          50|      72000,00|           01|               |\n",
            "|     41273607|LAYANE SCARLETT D...|             2135|          50|          1,00|           01|               |\n",
            "|     41273608|FRANCISCA SAMPAIO...|             2135|          50|          0,00|           01|               |\n",
            "|     41273609|INGRID DIAS ALVES...|             2135|          50|      10000,00|           01|               |\n",
            "+-------------+--------------------+-----------------+------------+--------------+-------------+---------------+\n",
            "only showing top 10 rows\n",
            "\n"
          ]
        }
      ],
      "source": [
        "# Exibe as 10 primeiras linhas do dataframe\n",
        "\n",
        "df.show(10)"
      ]
    },
    {
      "cell_type": "code",
      "execution_count": 16,
      "metadata": {
        "colab": {
          "base_uri": "https://localhost:8080/"
        },
        "id": "5Vf3B3Icw3JL",
        "outputId": "8071ec78-6fe7-4d20-fa6c-d05ddc39e0d4"
      },
      "outputs": [
        {
          "output_type": "stream",
          "name": "stdout",
          "text": [
            "root\n",
            " |-- cnpj_basico_2: string (nullable = true)\n",
            " |-- razao_social: string (nullable = true)\n",
            " |-- natureza_juridica: string (nullable = true)\n",
            " |-- qualificacao: string (nullable = true)\n",
            " |-- capital_social: string (nullable = true)\n",
            " |-- porte_empresa: string (nullable = true)\n",
            " |-- ente_federativo: string (nullable = true)\n",
            "\n"
          ]
        }
      ],
      "source": [
        "# Exibe o schema do Dataframe\n",
        "\n",
        "df.printSchema()"
      ]
    },
    {
      "cell_type": "code",
      "execution_count": 17,
      "metadata": {
        "colab": {
          "base_uri": "https://localhost:8080/"
        },
        "id": "RvJH0V_ALVyH",
        "outputId": "3cd9209c-a993-4059-fb4f-83ed44bfdff6"
      },
      "outputs": [
        {
          "output_type": "stream",
          "name": "stdout",
          "text": [
            "+-------------+--------------------+-----------------+--------------+-------------+\n",
            "|cnpj_basico_2|        razao_social|natureza_juridica|capital_social|porte_empresa|\n",
            "+-------------+--------------------+-----------------+--------------+-------------+\n",
            "|     41273600|AVANILSON BRUNO M...|             2135|      50000,00|           01|\n",
            "|     41273601|GABRIELA HELENA F...|             2135|       2000,00|           01|\n",
            "|     41273602|FABIO SOUZA DO RO...|             2135|      15000,00|           01|\n",
            "|     41273603|GRAFLINE ACESSORI...|             2062|      10000,00|           01|\n",
            "|     41273604|RUMO - ESTUDIO DE...|             2062|      10000,00|           01|\n",
            "|     41273605|WALLACE DE OLIVEI...|             2135|       1000,00|           01|\n",
            "|     41273606|MARCOS CESAR DE M...|             2135|      72000,00|           01|\n",
            "|     41273607|LAYANE SCARLETT D...|             2135|          1,00|           01|\n",
            "|     41273608|FRANCISCA SAMPAIO...|             2135|          0,00|           01|\n",
            "|     41273609|INGRID DIAS ALVES...|             2135|      10000,00|           01|\n",
            "+-------------+--------------------+-----------------+--------------+-------------+\n",
            "only showing top 10 rows\n",
            "\n"
          ]
        }
      ],
      "source": [
        "# Remocao das colunas qualificacao e ente_federativo\n",
        "\n",
        "df_emp = df.select(['cnpj_basico_2', 'razao_social', 'natureza_juridica', 'capital_social', 'porte_empresa'])\n",
        "df_emp.show(10)"
      ]
    },
    {
      "cell_type": "markdown",
      "metadata": {
        "id": "9kA6nFap8ihY"
      },
      "source": [
        "## **_4. Geração do dataframe dos dados obtidos da parte 1 do projeto (dados de Estabelecimento)_**"
      ]
    },
    {
      "cell_type": "code",
      "execution_count": 18,
      "metadata": {
        "id": "QWrS_ZX9Zj1z"
      },
      "outputs": [],
      "source": [
        "# Define o endereco do arquivo csv gerado na parte 1 deste projeto\n",
        "\n",
        "csv_parte_1 = drive_path + 'df_municipio_pocos_de_caldas.csv'"
      ]
    },
    {
      "cell_type": "code",
      "execution_count": 19,
      "metadata": {
        "colab": {
          "base_uri": "https://localhost:8080/"
        },
        "id": "kV3N7NlQm0uF",
        "outputId": "2ad87a0b-e421-49aa-e1d4-cf9d124127c8"
      },
      "outputs": [
        {
          "output_type": "stream",
          "name": "stdout",
          "text": [
            "root\n",
            " |-- cnpj_basico: string (nullable = true)\n",
            " |-- cnpj_ordem: string (nullable = true)\n",
            " |-- cnpj_dv: string (nullable = true)\n",
            " |-- identificador_matriz_filial: string (nullable = true)\n",
            " |-- nome_fantasia: string (nullable = true)\n",
            " |-- situacao_cadastral: string (nullable = true)\n",
            " |-- data_situacao_cadastral: string (nullable = true)\n",
            " |-- motivo_situacao_cadastral: string (nullable = true)\n",
            " |-- data_de_inicio_atividade: string (nullable = true)\n",
            " |-- cnae_fiscal_principal: string (nullable = true)\n",
            " |-- numero: string (nullable = true)\n",
            " |-- complemento: string (nullable = true)\n",
            " |-- cep: string (nullable = true)\n",
            "\n"
          ]
        }
      ],
      "source": [
        "# Leitura do arquivo gerado na parte 1 do projeto e geracao de dataframe com os dados deste\n",
        "# Exibicao do schema do dataframe\n",
        "\n",
        "df_parte1 = spark.read.csv(csv_parte_1, nullValue='NA', sep=',', header=True)\n",
        "df_parte1.printSchema()"
      ]
    },
    {
      "cell_type": "code",
      "execution_count": 22,
      "metadata": {
        "colab": {
          "base_uri": "https://localhost:8080/"
        },
        "id": "Fmf3swlam02W",
        "outputId": "a79084ec-6509-44cc-8de5-55aab0d99a23"
      },
      "outputs": [
        {
          "output_type": "stream",
          "name": "stdout",
          "text": [
            "+-----------+----------+-------+---------------------------+--------------------+------------------+-----------------------+-------------------------+------------------------+---------------------+------+-----------+--------+\n",
            "|cnpj_basico|cnpj_ordem|cnpj_dv|identificador_matriz_filial|       nome_fantasia|situacao_cadastral|data_situacao_cadastral|motivo_situacao_cadastral|data_de_inicio_atividade|cnae_fiscal_principal|numero|complemento|     cep|\n",
            "+-----------+----------+-------+---------------------------+--------------------+------------------+-----------------------+-------------------------+------------------------+---------------------+------+-----------+--------+\n",
            "|   02951824|      0002|     53|                          2|                null|                04|               20190124|                       63|                20021111|              4729699|  1248|          A|37701386|\n",
            "|   02114490|      0002|     63|                          2|SOLANGE MODA E AC...|                08|               20101109|                       01|                20011016|              4781400|    15|       null|37701010|\n",
            "|   03907506|      0001|     77|                          1|                null|                02|               20051103|                       00|                20000626|              8650003|   221|   CONJ  23|37701025|\n",
            "|   05571365|      0001|     90|                          1|                null|                08|               20130415|                       01|                20030331|              4759899|   404|       null|37701033|\n",
            "|   03913359|      0001|     48|                          1|           SONHO MEU|                08|               20110426|                       01|                20000623|              4729699|   255|       null|37706147|\n",
            "|   00604792|      0001|     03|                          1|                null|                08|               20131209|                       01|                19950510|              5611203|   364|       null|37701386|\n",
            "|   05577240|      0001|     77|                          1|                null|                04|               20180925|                       63|                20030319|              4781400|   606|       null|37701094|\n",
            "|   02226925|      0001|     80|                          1|  REQUINTE FOLHEADOS|                08|               20081231|                       71|                19971103|              4649408|   271|       null|37701010|\n",
            "|   00607194|      0001|     98|                          1|                null|                02|               20051103|                       00|                19950518|              8650099|   125|       null|37701025|\n",
            "|   00609668|      0001|     30|                          1|ALICE PRESENTES E...|                08|               20051219|                       01|                19950517|              4713004|   554|    LOJA 06|37701016|\n",
            "+-----------+----------+-------+---------------------------+--------------------+------------------+-----------------------+-------------------------+------------------------+---------------------+------+-----------+--------+\n",
            "only showing top 10 rows\n",
            "\n"
          ]
        }
      ],
      "source": [
        "# Exibe as 10 primeiras linhas do dataframe\n",
        "\n",
        "df_parte1.show(10)"
      ]
    },
    {
      "cell_type": "code",
      "execution_count": 23,
      "metadata": {
        "colab": {
          "base_uri": "https://localhost:8080/"
        },
        "id": "5MVZ4fighlZB",
        "outputId": "8d598595-09fa-4fe4-9732-07676e2abecd"
      },
      "outputs": [
        {
          "output_type": "stream",
          "name": "stdout",
          "text": [
            "O dataframe df_municipio contem 54603 linhas e 13 colunas.\n"
          ]
        }
      ],
      "source": [
        "# Apresenta a forma do dataframe da parte 1\n",
        "\n",
        "print(f'O dataframe df_municipio contem {df_parte1.count()} linhas e {len(df_parte1.columns)} colunas.')"
      ]
    },
    {
      "cell_type": "markdown",
      "metadata": {
        "id": "6bZXaWuw_Ljz"
      },
      "source": [
        "## **_5. Junção dos dataframes_**"
      ]
    },
    {
      "cell_type": "code",
      "execution_count": 24,
      "metadata": {
        "colab": {
          "base_uri": "https://localhost:8080/"
        },
        "id": "8Y10SJHmg8sY",
        "outputId": "719802e1-bde3-47a2-8e95-35310ef44e68"
      },
      "outputs": [
        {
          "output_type": "stream",
          "name": "stdout",
          "text": [
            "+-----------+----------+-------+---------------------------+--------------------+------------------+-----------------------+-------------------------+------------------------+---------------------+------+------------------+--------+-------------+--------------------+-----------------+--------------+-------------+\n",
            "|cnpj_basico|cnpj_ordem|cnpj_dv|identificador_matriz_filial|       nome_fantasia|situacao_cadastral|data_situacao_cadastral|motivo_situacao_cadastral|data_de_inicio_atividade|cnae_fiscal_principal|numero|       complemento|     cep|cnpj_basico_2|        razao_social|natureza_juridica|capital_social|porte_empresa|\n",
            "+-----------+----------+-------+---------------------------+--------------------+------------------+-----------------------+-------------------------+------------------------+---------------------+------+------------------+--------+-------------+--------------------+-----------------+--------------+-------------+\n",
            "|   37318064|      0001|     45|                          1|             AMARELO|                02|               20200604|                       00|                20200604|              4772500|   325|              CONJ|37701561|     37318064|FERNANDA PAULA JA...|             2135|       1000,00|           01|\n",
            "|   37362540|      0001|     25|                          1|            REVIGORE|                02|               20200609|                       00|                20200609|              9602502|   314|           CASA  2|37701038|     37362540|REVIGORE CLINICA ...|             2062|      40000,00|           01|\n",
            "|   37313704|      0001|     24|                          1|                null|                02|               20200603|                       00|                20200603|              8112500|  1061|              null|37701714|     37313704|ASSOCIACAO PROCON...|             3999|          0,00|           05|\n",
            "|   02232252|      0001|     71|                          1|                null|                04|               20180911|                       63|                19971111|              4617600|    73|           SALA 22|37701275|     02232252|REPRESENTACAO DAN...|             2062|          0,00|           05|\n",
            "|   00609668|      0001|     30|                          1|ALICE PRESENTES E...|                08|               20051219|                       01|                19950517|              4713004|   554|           LOJA 06|37701016|     00609668|COMERCIAL MURARO ...|             2062|      10000,00|           01|\n",
            "|   37336785|      0001|     88|                          1|      ZARREF MARTINS|                02|               20200605|                       00|                20200605|              8230001|    06|              null|37710416|     37336785|LUCAS FERRAZ MART...|             2135|       6000,00|           01|\n",
            "|   37392389|      0001|     78|                          1|                null|                08|               20220621|                       01|                20200612|              4754702|   180|              null|37706283|     37392389|SILVIO ROBERTO DA...|             2135|       1000,00|           01|\n",
            "|   05577240|      0001|     77|                          1|                null|                04|               20180925|                       63|                20030319|              4781400|   606|              null|37701094|     05577240|NILCEA APARECIDA ...|             2135|          0,00|           01|\n",
            "|   37351222|      0001|     69|                          1|TRANSPORTE POR AP...|                08|               20211004|                       01|                20200608|              5229099|    06|              null|37704166|     37351222|JOSE GERSINO PERE...|             2135|       3000,00|           01|\n",
            "|   26945321|      0001|     52|                          1|             AGROVET|                02|               20170125|                       00|                20170125|              4789004|   380|LOJA  01 / 02 / 03|37706147|     26945321|             AGROVET|             2135|      20000,00|           01|\n",
            "|   03937674|      0001|     05|                          1|      JD INFORMATICA|                08|               20081231|                       71|                20000714|              4751201|   511|              null|37701004|     03937674|J & D INFORMATICA...|             2062|          0,00|           05|\n",
            "|   37393412|      0001|     49|                          1|SANDERCEIA VITORI...|                02|               20200612|                       00|                20200612|              4321500|   356|              CONJ|37701445|     37393412|SANDERCEIA VITORI...|             2135|       1000,00|           01|\n",
            "|   37445593|      0001|     00|                          1|        PR CONFECCAO|                02|               20200617|                       00|                20200617|              1413403|    98|             BRCAO|37704016|     37445593|ALIFER PIRES PELE...|             2135|          1,00|           01|\n",
            "|   03926356|      0001|     49|                          1|           AGUA VIVA|                04|               20180918|                       63|                20000710|              1412601|   220|              null|37701099|     03926356| BMB CONFECCOES LTDA|             2062|          0,00|           01|\n",
            "|   37458107|      0001|     98|                          1|TWJ GESTAO ADMINI...|                02|               20200618|                       00|                20200618|              8211300|   774|          CASA  19|37703263|     37458107|TWJ GESTAO ADMINI...|             2062|       7000,00|           01|\n",
            "|   03907506|      0001|     77|                          1|                null|                02|               20051103|                       00|                20000626|              8650003|   221|          CONJ  23|37701025|     03907506|CLINICA DE PSICOL...|             2240|      15000,00|           01|\n",
            "|   04531266|      0003|     83|                          2|                null|                08|               20061219|                       01|                20030707|              4784900|   198|              null|37704284|     04531266|          BIGAS LTDA|             2062|       5000,00|           01|\n",
            "|   03913359|      0001|     48|                          1|           SONHO MEU|                08|               20110426|                       01|                20000623|              4729699|   255|              null|37706147|     03913359|CARVALHO & DIONIS...|             2062|          0,00|           01|\n",
            "|   00604792|      0001|     03|                          1|                null|                08|               20131209|                       01|                19950510|              5611203|   364|              null|37701386|     00604792|LANCHAR LANCHES M...|             2062|       3000,00|           01|\n",
            "|   37453819|      0001|     14|                          1|                null|                02|               20181003|                       00|                20181003|              8112500|   180|              null|37705614|     37453819|CONDOMINIO RESIDE...|             3085|          0,00|           05|\n",
            "+-----------+----------+-------+---------------------------+--------------------+------------------+-----------------------+-------------------------+------------------------+---------------------+------+------------------+--------+-------------+--------------------+-----------------+--------------+-------------+\n",
            "only showing top 20 rows\n",
            "\n"
          ]
        }
      ],
      "source": [
        "# Juncao do dataframe com os dados das empresas com o dataframe da parte 1 do projeto\n",
        "# atraves do dado de CNPJ, identificador unico das empresas\n",
        "\n",
        "# joined = df_pocos.join(df, df_pocos.cnpj_basico == df._c0, how=\"inner\")\n",
        "# joined.show()\n",
        "\n",
        "df_emp.createOrReplaceTempView(\"DF\")\n",
        "df_parte1.createOrReplaceTempView(\"DF_POCOS\")\n",
        "\n",
        "df_emp_parte1 = spark.sql(\"SELECT * FROM DF_POCOS AS P \\\n",
        "                           LEFT JOIN DF AS D \\\n",
        "                           ON P.cnpj_basico = D.cnpj_basico_2\")\n",
        "\n",
        "df_emp_parte1.show()"
      ]
    },
    {
      "cell_type": "code",
      "execution_count": 25,
      "metadata": {
        "colab": {
          "base_uri": "https://localhost:8080/"
        },
        "id": "kGr55zqM1L_y",
        "outputId": "d4b3da64-54e2-49dd-f520-47b51abdb6a7"
      },
      "outputs": [
        {
          "output_type": "stream",
          "name": "stdout",
          "text": [
            "O dataframe apos o join contem 54603 linhas e 18 colunas.\n"
          ]
        }
      ],
      "source": [
        "# Apresenta a forma do dataframe combinado\n",
        "\n",
        "print(f'O dataframe apos o join contem {df_emp_parte1.count()} linhas e {len(df_emp_parte1.columns)} colunas.')"
      ]
    },
    {
      "cell_type": "code",
      "execution_count": 26,
      "metadata": {
        "colab": {
          "base_uri": "https://localhost:8080/"
        },
        "id": "fz_XP-BgBKlN",
        "outputId": "aa0ba48d-163b-4ea5-f274-a874fad3e31d"
      },
      "outputs": [
        {
          "output_type": "stream",
          "name": "stdout",
          "text": [
            "root\n",
            " |-- cnpj_basico: string (nullable = true)\n",
            " |-- cnpj_ordem: string (nullable = true)\n",
            " |-- cnpj_dv: string (nullable = true)\n",
            " |-- identificador_matriz_filial: string (nullable = true)\n",
            " |-- nome_fantasia: string (nullable = true)\n",
            " |-- situacao_cadastral: string (nullable = true)\n",
            " |-- data_situacao_cadastral: string (nullable = true)\n",
            " |-- motivo_situacao_cadastral: string (nullable = true)\n",
            " |-- data_de_inicio_atividade: string (nullable = true)\n",
            " |-- cnae_fiscal_principal: string (nullable = true)\n",
            " |-- numero: string (nullable = true)\n",
            " |-- complemento: string (nullable = true)\n",
            " |-- cep: string (nullable = true)\n",
            " |-- cnpj_basico_2: string (nullable = true)\n",
            " |-- razao_social: string (nullable = true)\n",
            " |-- natureza_juridica: string (nullable = true)\n",
            " |-- capital_social: string (nullable = true)\n",
            " |-- porte_empresa: string (nullable = true)\n",
            "\n"
          ]
        }
      ],
      "source": [
        "# Apresenta o schema do dataframe combinado\n",
        "\n",
        "df_emp_parte1.printSchema()"
      ]
    },
    {
      "cell_type": "code",
      "execution_count": 27,
      "metadata": {
        "colab": {
          "base_uri": "https://localhost:8080/"
        },
        "id": "-ZIYHVwCUhP4",
        "outputId": "7a8e488f-12ed-4b94-de47-fbc6bc4d0a6d"
      },
      "outputs": [
        {
          "output_type": "stream",
          "name": "stdout",
          "text": [
            "+-----------+----------+-------+---------------------------+--------------------+------------------+-----------------------+-------------------------+------------------------+---------------------+------+-----------+--------+--------------------+-----------------+--------------+-------------+\n",
            "|cnpj_basico|cnpj_ordem|cnpj_dv|identificador_matriz_filial|       nome_fantasia|situacao_cadastral|data_situacao_cadastral|motivo_situacao_cadastral|data_de_inicio_atividade|cnae_fiscal_principal|numero|complemento|     cep|        razao_social|natureza_juridica|capital_social|porte_empresa|\n",
            "+-----------+----------+-------+---------------------------+--------------------+------------------+-----------------------+-------------------------+------------------------+---------------------+------+-----------+--------+--------------------+-----------------+--------------+-------------+\n",
            "|   37318064|      0001|     45|                          1|             AMARELO|                02|               20200604|                       00|                20200604|              4772500|   325|       CONJ|37701561|FERNANDA PAULA JA...|             2135|       1000,00|           01|\n",
            "|   37362540|      0001|     25|                          1|            REVIGORE|                02|               20200609|                       00|                20200609|              9602502|   314|    CASA  2|37701038|REVIGORE CLINICA ...|             2062|      40000,00|           01|\n",
            "|   37313704|      0001|     24|                          1|                null|                02|               20200603|                       00|                20200603|              8112500|  1061|       null|37701714|ASSOCIACAO PROCON...|             3999|          0,00|           05|\n",
            "|   00609668|      0001|     30|                          1|ALICE PRESENTES E...|                08|               20051219|                       01|                19950517|              4713004|   554|    LOJA 06|37701016|COMERCIAL MURARO ...|             2062|      10000,00|           01|\n",
            "|   37336785|      0001|     88|                          1|      ZARREF MARTINS|                02|               20200605|                       00|                20200605|              8230001|    06|       null|37710416|LUCAS FERRAZ MART...|             2135|       6000,00|           01|\n",
            "|   37392389|      0001|     78|                          1|                null|                08|               20220621|                       01|                20200612|              4754702|   180|       null|37706283|SILVIO ROBERTO DA...|             2135|       1000,00|           01|\n",
            "|   05577240|      0001|     77|                          1|                null|                04|               20180925|                       63|                20030319|              4781400|   606|       null|37701094|NILCEA APARECIDA ...|             2135|          0,00|           01|\n",
            "|   37351222|      0001|     69|                          1|TRANSPORTE POR AP...|                08|               20211004|                       01|                20200608|              5229099|    06|       null|37704166|JOSE GERSINO PERE...|             2135|       3000,00|           01|\n",
            "|   03907506|      0001|     77|                          1|                null|                02|               20051103|                       00|                20000626|              8650003|   221|   CONJ  23|37701025|CLINICA DE PSICOL...|             2240|      15000,00|           01|\n",
            "|   03913359|      0001|     48|                          1|           SONHO MEU|                08|               20110426|                       01|                20000623|              4729699|   255|       null|37706147|CARVALHO & DIONIS...|             2062|          0,00|           01|\n",
            "+-----------+----------+-------+---------------------------+--------------------+------------------+-----------------------+-------------------------+------------------------+---------------------+------+-----------+--------+--------------------+-----------------+--------------+-------------+\n",
            "only showing top 10 rows\n",
            "\n"
          ]
        }
      ],
      "source": [
        "# Remocao da coluna cnpj_basico_2 (redundante)\n",
        "\n",
        "# df_joined = df_joined.drop(*['cnpj_basico_2'])\n",
        "df_emp_parte1 = df_emp_parte1.drop(df_emp_parte1.cnpj_basico_2)\n",
        "df_emp_parte1.show(10)"
      ]
    },
    {
      "cell_type": "code",
      "execution_count": 28,
      "metadata": {
        "id": "lxtaugSgKuAY"
      },
      "outputs": [],
      "source": [
        "# Converte o dataframe PySpark para um dataframe formato Pandas\n",
        "\n",
        "df_emp_parte1_pd = df_emp_parte1.toPandas()"
      ]
    },
    {
      "cell_type": "code",
      "execution_count": 29,
      "metadata": {
        "colab": {
          "base_uri": "https://localhost:8080/"
        },
        "id": "NKT76syNfGLc",
        "outputId": "7b12da89-8228-4e37-e5aa-68b069f40eb4"
      },
      "outputs": [
        {
          "output_type": "stream",
          "name": "stdout",
          "text": [
            "<class 'pandas.core.frame.DataFrame'>\n",
            "RangeIndex: 54603 entries, 0 to 54602\n",
            "Data columns (total 17 columns):\n",
            " #   Column                       Non-Null Count  Dtype \n",
            "---  ------                       --------------  ----- \n",
            " 0   cnpj_basico                  54603 non-null  object\n",
            " 1   cnpj_ordem                   54603 non-null  object\n",
            " 2   cnpj_dv                      54603 non-null  object\n",
            " 3   identificador_matriz_filial  54603 non-null  object\n",
            " 4   nome_fantasia                34431 non-null  object\n",
            " 5   situacao_cadastral           54603 non-null  object\n",
            " 6   data_situacao_cadastral      54603 non-null  object\n",
            " 7   motivo_situacao_cadastral    54603 non-null  object\n",
            " 8   data_de_inicio_atividade     54603 non-null  object\n",
            " 9   cnae_fiscal_principal        54603 non-null  object\n",
            " 10  numero                       54603 non-null  object\n",
            " 11  complemento                  18056 non-null  object\n",
            " 12  cep                          54603 non-null  object\n",
            " 13  razao_social                 54603 non-null  object\n",
            " 14  natureza_juridica            54603 non-null  object\n",
            " 15  capital_social               54603 non-null  object\n",
            " 16  porte_empresa                54603 non-null  object\n",
            "dtypes: object(17)\n",
            "memory usage: 7.1+ MB\n"
          ]
        }
      ],
      "source": [
        "# Apresenta informacoes do dataframe Pandas\n",
        "\n",
        "df_emp_parte1_pd.info()"
      ]
    },
    {
      "cell_type": "code",
      "execution_count": 30,
      "metadata": {
        "colab": {
          "base_uri": "https://localhost:8080/",
          "height": 548
        },
        "id": "0yAFQ0hyOXVJ",
        "outputId": "887bbfcf-8e1b-47c5-8bfe-6d7a9f0a7c71"
      },
      "outputs": [
        {
          "output_type": "execute_result",
          "data": {
            "text/plain": [
              "  cnpj_basico cnpj_ordem cnpj_dv identificador_matriz_filial    nome_fantasia  \\\n",
              "0    00065369       0001      82                           1             None   \n",
              "1    00328348       0001      02                           1             None   \n",
              "2    00331566       0001      04                           1             None   \n",
              "3    00354051       0001      11                           1  KLIKOS CALCADOS   \n",
              "4    00365630       0001      60                           1             None   \n",
              "\n",
              "  situacao_cadastral data_situacao_cadastral motivo_situacao_cadastral  \\\n",
              "0                 02                20050827                        00   \n",
              "1                 04                20190124                        63   \n",
              "2                 08                20021107                        01   \n",
              "3                 08                20190612                        01   \n",
              "4                 08                20081128                        54   \n",
              "\n",
              "  data_de_inicio_atividade cnae_fiscal_principal numero complemento       cep  \\\n",
              "0                 19940512               8610102    575   APT   401  37701104   \n",
              "1                 19941205               4712100    175        None  37701454   \n",
              "2                 19941206               4789001     23        None  37701012   \n",
              "3                 19941220               4782201    329        None  37704198   \n",
              "4                 19941226               6629100    139        None  37704171   \n",
              "\n",
              "                                        razao_social natureza_juridica  \\\n",
              "0  MONTINGELLI SERVICOS MEDICOS SOCIEDADE SIMPLES...              2232   \n",
              "1                       LUIZ FERNANDO SALES DA SILVA              2135   \n",
              "2                              NIKKA - COMERCIO LTDA              2062   \n",
              "3                       MATHEUS LIMA CALCADOS EIRELI              2305   \n",
              "4        RISSEG-INSPECAO DE SINISTROS COMERCIAL LTDA              2062   \n",
              "\n",
              "  capital_social porte_empresa  \n",
              "0        5000,00            01  \n",
              "1           0,00            01  \n",
              "2           0,00            05  \n",
              "3      100000,00            03  \n",
              "4           0,00            01  "
            ],
            "text/html": [
              "\n",
              "  <div id=\"df-3be94e8e-2cf7-4fa1-80d4-5d544c980992\">\n",
              "    <div class=\"colab-df-container\">\n",
              "      <div>\n",
              "<style scoped>\n",
              "    .dataframe tbody tr th:only-of-type {\n",
              "        vertical-align: middle;\n",
              "    }\n",
              "\n",
              "    .dataframe tbody tr th {\n",
              "        vertical-align: top;\n",
              "    }\n",
              "\n",
              "    .dataframe thead th {\n",
              "        text-align: right;\n",
              "    }\n",
              "</style>\n",
              "<table border=\"1\" class=\"dataframe\">\n",
              "  <thead>\n",
              "    <tr style=\"text-align: right;\">\n",
              "      <th></th>\n",
              "      <th>cnpj_basico</th>\n",
              "      <th>cnpj_ordem</th>\n",
              "      <th>cnpj_dv</th>\n",
              "      <th>identificador_matriz_filial</th>\n",
              "      <th>nome_fantasia</th>\n",
              "      <th>situacao_cadastral</th>\n",
              "      <th>data_situacao_cadastral</th>\n",
              "      <th>motivo_situacao_cadastral</th>\n",
              "      <th>data_de_inicio_atividade</th>\n",
              "      <th>cnae_fiscal_principal</th>\n",
              "      <th>numero</th>\n",
              "      <th>complemento</th>\n",
              "      <th>cep</th>\n",
              "      <th>razao_social</th>\n",
              "      <th>natureza_juridica</th>\n",
              "      <th>capital_social</th>\n",
              "      <th>porte_empresa</th>\n",
              "    </tr>\n",
              "  </thead>\n",
              "  <tbody>\n",
              "    <tr>\n",
              "      <th>0</th>\n",
              "      <td>00065369</td>\n",
              "      <td>0001</td>\n",
              "      <td>82</td>\n",
              "      <td>1</td>\n",
              "      <td>None</td>\n",
              "      <td>02</td>\n",
              "      <td>20050827</td>\n",
              "      <td>00</td>\n",
              "      <td>19940512</td>\n",
              "      <td>8610102</td>\n",
              "      <td>575</td>\n",
              "      <td>APT   401</td>\n",
              "      <td>37701104</td>\n",
              "      <td>MONTINGELLI SERVICOS MEDICOS SOCIEDADE SIMPLES...</td>\n",
              "      <td>2232</td>\n",
              "      <td>5000,00</td>\n",
              "      <td>01</td>\n",
              "    </tr>\n",
              "    <tr>\n",
              "      <th>1</th>\n",
              "      <td>00328348</td>\n",
              "      <td>0001</td>\n",
              "      <td>02</td>\n",
              "      <td>1</td>\n",
              "      <td>None</td>\n",
              "      <td>04</td>\n",
              "      <td>20190124</td>\n",
              "      <td>63</td>\n",
              "      <td>19941205</td>\n",
              "      <td>4712100</td>\n",
              "      <td>175</td>\n",
              "      <td>None</td>\n",
              "      <td>37701454</td>\n",
              "      <td>LUIZ FERNANDO SALES DA SILVA</td>\n",
              "      <td>2135</td>\n",
              "      <td>0,00</td>\n",
              "      <td>01</td>\n",
              "    </tr>\n",
              "    <tr>\n",
              "      <th>2</th>\n",
              "      <td>00331566</td>\n",
              "      <td>0001</td>\n",
              "      <td>04</td>\n",
              "      <td>1</td>\n",
              "      <td>None</td>\n",
              "      <td>08</td>\n",
              "      <td>20021107</td>\n",
              "      <td>01</td>\n",
              "      <td>19941206</td>\n",
              "      <td>4789001</td>\n",
              "      <td>23</td>\n",
              "      <td>None</td>\n",
              "      <td>37701012</td>\n",
              "      <td>NIKKA - COMERCIO LTDA</td>\n",
              "      <td>2062</td>\n",
              "      <td>0,00</td>\n",
              "      <td>05</td>\n",
              "    </tr>\n",
              "    <tr>\n",
              "      <th>3</th>\n",
              "      <td>00354051</td>\n",
              "      <td>0001</td>\n",
              "      <td>11</td>\n",
              "      <td>1</td>\n",
              "      <td>KLIKOS CALCADOS</td>\n",
              "      <td>08</td>\n",
              "      <td>20190612</td>\n",
              "      <td>01</td>\n",
              "      <td>19941220</td>\n",
              "      <td>4782201</td>\n",
              "      <td>329</td>\n",
              "      <td>None</td>\n",
              "      <td>37704198</td>\n",
              "      <td>MATHEUS LIMA CALCADOS EIRELI</td>\n",
              "      <td>2305</td>\n",
              "      <td>100000,00</td>\n",
              "      <td>03</td>\n",
              "    </tr>\n",
              "    <tr>\n",
              "      <th>4</th>\n",
              "      <td>00365630</td>\n",
              "      <td>0001</td>\n",
              "      <td>60</td>\n",
              "      <td>1</td>\n",
              "      <td>None</td>\n",
              "      <td>08</td>\n",
              "      <td>20081128</td>\n",
              "      <td>54</td>\n",
              "      <td>19941226</td>\n",
              "      <td>6629100</td>\n",
              "      <td>139</td>\n",
              "      <td>None</td>\n",
              "      <td>37704171</td>\n",
              "      <td>RISSEG-INSPECAO DE SINISTROS COMERCIAL LTDA</td>\n",
              "      <td>2062</td>\n",
              "      <td>0,00</td>\n",
              "      <td>01</td>\n",
              "    </tr>\n",
              "  </tbody>\n",
              "</table>\n",
              "</div>\n",
              "      <button class=\"colab-df-convert\" onclick=\"convertToInteractive('df-3be94e8e-2cf7-4fa1-80d4-5d544c980992')\"\n",
              "              title=\"Convert this dataframe to an interactive table.\"\n",
              "              style=\"display:none;\">\n",
              "        \n",
              "  <svg xmlns=\"http://www.w3.org/2000/svg\" height=\"24px\"viewBox=\"0 0 24 24\"\n",
              "       width=\"24px\">\n",
              "    <path d=\"M0 0h24v24H0V0z\" fill=\"none\"/>\n",
              "    <path d=\"M18.56 5.44l.94 2.06.94-2.06 2.06-.94-2.06-.94-.94-2.06-.94 2.06-2.06.94zm-11 1L8.5 8.5l.94-2.06 2.06-.94-2.06-.94L8.5 2.5l-.94 2.06-2.06.94zm10 10l.94 2.06.94-2.06 2.06-.94-2.06-.94-.94-2.06-.94 2.06-2.06.94z\"/><path d=\"M17.41 7.96l-1.37-1.37c-.4-.4-.92-.59-1.43-.59-.52 0-1.04.2-1.43.59L10.3 9.45l-7.72 7.72c-.78.78-.78 2.05 0 2.83L4 21.41c.39.39.9.59 1.41.59.51 0 1.02-.2 1.41-.59l7.78-7.78 2.81-2.81c.8-.78.8-2.07 0-2.86zM5.41 20L4 18.59l7.72-7.72 1.47 1.35L5.41 20z\"/>\n",
              "  </svg>\n",
              "      </button>\n",
              "      \n",
              "  <style>\n",
              "    .colab-df-container {\n",
              "      display:flex;\n",
              "      flex-wrap:wrap;\n",
              "      gap: 12px;\n",
              "    }\n",
              "\n",
              "    .colab-df-convert {\n",
              "      background-color: #E8F0FE;\n",
              "      border: none;\n",
              "      border-radius: 50%;\n",
              "      cursor: pointer;\n",
              "      display: none;\n",
              "      fill: #1967D2;\n",
              "      height: 32px;\n",
              "      padding: 0 0 0 0;\n",
              "      width: 32px;\n",
              "    }\n",
              "\n",
              "    .colab-df-convert:hover {\n",
              "      background-color: #E2EBFA;\n",
              "      box-shadow: 0px 1px 2px rgba(60, 64, 67, 0.3), 0px 1px 3px 1px rgba(60, 64, 67, 0.15);\n",
              "      fill: #174EA6;\n",
              "    }\n",
              "\n",
              "    [theme=dark] .colab-df-convert {\n",
              "      background-color: #3B4455;\n",
              "      fill: #D2E3FC;\n",
              "    }\n",
              "\n",
              "    [theme=dark] .colab-df-convert:hover {\n",
              "      background-color: #434B5C;\n",
              "      box-shadow: 0px 1px 3px 1px rgba(0, 0, 0, 0.15);\n",
              "      filter: drop-shadow(0px 1px 2px rgba(0, 0, 0, 0.3));\n",
              "      fill: #FFFFFF;\n",
              "    }\n",
              "  </style>\n",
              "\n",
              "      <script>\n",
              "        const buttonEl =\n",
              "          document.querySelector('#df-3be94e8e-2cf7-4fa1-80d4-5d544c980992 button.colab-df-convert');\n",
              "        buttonEl.style.display =\n",
              "          google.colab.kernel.accessAllowed ? 'block' : 'none';\n",
              "\n",
              "        async function convertToInteractive(key) {\n",
              "          const element = document.querySelector('#df-3be94e8e-2cf7-4fa1-80d4-5d544c980992');\n",
              "          const dataTable =\n",
              "            await google.colab.kernel.invokeFunction('convertToInteractive',\n",
              "                                                     [key], {});\n",
              "          if (!dataTable) return;\n",
              "\n",
              "          const docLinkHtml = 'Like what you see? Visit the ' +\n",
              "            '<a target=\"_blank\" href=https://colab.research.google.com/notebooks/data_table.ipynb>data table notebook</a>'\n",
              "            + ' to learn more about interactive tables.';\n",
              "          element.innerHTML = '';\n",
              "          dataTable['output_type'] = 'display_data';\n",
              "          await google.colab.output.renderOutput(dataTable, element);\n",
              "          const docLink = document.createElement('div');\n",
              "          docLink.innerHTML = docLinkHtml;\n",
              "          element.appendChild(docLink);\n",
              "        }\n",
              "      </script>\n",
              "    </div>\n",
              "  </div>\n",
              "  "
            ]
          },
          "metadata": {},
          "execution_count": 30
        }
      ],
      "source": [
        "# Exibe as 5 primieras linhas do dataframe Pandas\n",
        "\n",
        "df_emp_parte1_pd.head()"
      ]
    },
    {
      "cell_type": "code",
      "execution_count": 31,
      "metadata": {
        "id": "4FS2qzQYLLSq"
      },
      "outputs": [],
      "source": [
        "# Substituicao dos caracteres \" ; : das instancias para evitar conflitos na geracao do arquivo csv\n",
        "\n",
        "df_emp_parte1_pd = df_emp_parte1_pd.replace('[\":;]',' ', regex=True)"
      ]
    },
    {
      "cell_type": "markdown",
      "metadata": {
        "id": "yW8HOWlF_Yk7"
      },
      "source": [
        "## **_6. Geração e exportação do arquivo CSV finalizado da parte 2_**"
      ]
    },
    {
      "cell_type": "code",
      "execution_count": 32,
      "metadata": {
        "id": "_J_NVKFaf_FS"
      },
      "outputs": [],
      "source": [
        "# Mascara para o nome do csv\n",
        "\n",
        "mascara_nome_arquivo = 'df_pocos_pt2.csv'"
      ]
    },
    {
      "cell_type": "code",
      "execution_count": 33,
      "metadata": {
        "colab": {
          "base_uri": "https://localhost:8080/"
        },
        "id": "hXc1kiRPPbH0",
        "outputId": "c93342fd-d49a-4da2-e65e-01e93772e439"
      },
      "outputs": [
        {
          "output_type": "stream",
          "name": "stdout",
          "text": [
            "O arquivo df_pocos_pt2.csv foi gerado com sucesso.\n"
          ]
        }
      ],
      "source": [
        "# Criacao do arquivo csv\n",
        "\n",
        "df_emp_parte1_pd.to_csv(mascara_nome_arquivo, index=False, encoding='utf-8', na_rep='', sep=';')\n",
        "print(f'O arquivo {mascara_nome_arquivo} foi gerado com sucesso.')"
      ]
    },
    {
      "cell_type": "code",
      "execution_count": 34,
      "metadata": {
        "colab": {
          "base_uri": "https://localhost:8080/"
        },
        "id": "nPO9H2oZf2P0",
        "outputId": "08918c10-af79-4060-b919-2e8c666062aa"
      },
      "outputs": [
        {
          "output_type": "stream",
          "name": "stdout",
          "text": [
            "O arquivo df_pocos_pt2.csv foi salvo na pasta MyDrive/cnpj_dados/ do Google Drive.\n"
          ]
        }
      ],
      "source": [
        "# Criacao uma copia do arquivo csv finalizado no diretorio de arquivos de CNPJ do Google Drive\n",
        "\n",
        "! cp $mascara_nome_arquivo $drive_path\n",
        "print(f'O arquivo {mascara_nome_arquivo} foi salvo na pasta {drive_path[15:]} do Google Drive.')"
      ]
    }
  ],
  "metadata": {
    "colab": {
      "collapsed_sections": [],
      "provenance": []
    },
    "kernelspec": {
      "display_name": "Python 3 (ipykernel)",
      "language": "python",
      "name": "python3"
    },
    "language_info": {
      "codemirror_mode": {
        "name": "ipython",
        "version": 3
      },
      "file_extension": ".py",
      "mimetype": "text/x-python",
      "name": "python",
      "nbconvert_exporter": "python",
      "pygments_lexer": "ipython3",
      "version": "3.9.12"
    }
  },
  "nbformat": 4,
  "nbformat_minor": 0
}